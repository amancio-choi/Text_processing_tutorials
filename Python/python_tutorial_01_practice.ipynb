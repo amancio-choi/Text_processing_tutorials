{
 "cells": [
  {
   "attachments": {},
   "cell_type": "markdown",
   "metadata": {},
   "source": [
    "### Python으로 텍스트 파일 읽고 쓰기\n",
    "- 텍스트 파일을 하나 읽은 후 다른 이름으로 저장한다.\n",
    "- 텍스트 파일을 하나 읽고 수정한 후 다른 이름으로 저장한다.\n",
    "- 텍스트 파일 여러 개를 읽고 수정한 후 다른 이름으로 저장한다.\n",
    "\n",
    "- 대상 텍스트 파일: Moby Dick (by Melville) (https://www.gutenberg.org/files/2701/2701-0.txt 링크에서 다운로드)"
   ]
  },
  {
   "attachments": {},
   "cell_type": "markdown",
   "metadata": {},
   "source": [
    "#### 텍스트 파일 1개 읽기\n",
    "읽을 파일이 저장된 **위치_경로**와 **파일 이름**을 먼저 확인한다."
   ]
  },
  {
   "cell_type": "code",
   "execution_count": null,
   "metadata": {},
   "outputs": [],
   "source": [
    "filepath = '../data/moby_dick_melville.txt'\n",
    "\n",
    "f = open(filepath, mode='r')\n",
    "doc = f.readlines()\n",
    "f.close()\n",
    "\n",
    "len(doc)"
   ]
  },
  {
   "attachments": {},
   "cell_type": "markdown",
   "metadata": {},
   "source": [
    "#### 읽은 파일의 내용 들여다보기\n",
    "- 텍스트 파일을 읽은 후 파일의 내용을 살펴보려면 **print(변수)** 함수를 사용할 수 있다. 그러나 읽은 텍스트가 총 2만 라인 이상이므로 출력 범위를 넘어선다. 이 때는 파일의 일부분(첫 부분 혹은 끝부분)만 출력할 수 있다. __변수[시작점:끝점]__과 같이 인덱스를 사용하여 슬라이싱(slicing)을 한다(슬라이싱: 저장된 문서의 일부분만 잘라낸다는 의미)."
   ]
  },
  {
   "cell_type": "code",
   "execution_count": null,
   "metadata": {},
   "outputs": [],
   "source": [
    "doc[:10]"
   ]
  },
  {
   "cell_type": "code",
   "execution_count": null,
   "metadata": {},
   "outputs": [],
   "source": [
    "doc[1000:1010]"
   ]
  },
  {
   "attachments": {},
   "cell_type": "markdown",
   "metadata": {},
   "source": [
    "#### 다른 방법으로 텍스트 파일을 읽기"
   ]
  },
  {
   "cell_type": "code",
   "execution_count": 2,
   "metadata": {},
   "outputs": [],
   "source": [
    "filepath = 'data/moby_dick_melville.txt'\n",
    "\n",
    "with open(filepath, mode='r') as f:\n",
    "    doc = f.readlines()"
   ]
  },
  {
   "cell_type": "code",
   "execution_count": null,
   "metadata": {},
   "outputs": [],
   "source": [
    "len(doc)"
   ]
  },
  {
   "cell_type": "code",
   "execution_count": null,
   "metadata": {},
   "outputs": [],
   "source": [
    "doc[:10]"
   ]
  },
  {
   "attachments": {},
   "cell_type": "markdown",
   "metadata": {},
   "source": [
    "##### 파일의 처음 10개 라인만 출력하고 싶을 때는 것은 아래와 같이 **for...** 구문을 이용하여 구현할 수 있다."
   ]
  },
  {
   "cell_type": "code",
   "execution_count": null,
   "metadata": {},
   "outputs": [],
   "source": [
    "filepath = 'data/moby_dick_melville.txt'\n",
    "\n",
    "with open(filepath, 'r') as f:\n",
    "    doc = f.readlines()\n",
    "    for line in doc[:10]:\n",
    "        print(line)"
   ]
  },
  {
   "attachments": {},
   "cell_type": "markdown",
   "metadata": {},
   "source": [
    "#### 읽은 텍스트에서 불필요한 기호나 공백을 제거하기\n",
    "- 여기서는 각 라인 끝의 \\n 기호(엔터 즉 라인의 끝을 표시)와 첫 번째 라인의 \\ufeff 문자(특수문자)를 제거한다."
   ]
  },
  {
   "cell_type": "code",
   "execution_count": null,
   "metadata": {},
   "outputs": [],
   "source": [
    "filepath = 'data/moby_dick_melville.txt'\n",
    "\n",
    "with open(filepath, mode='r') as f:\n",
    "    doc = f.readlines()\n",
    "\n",
    "print(doc[:10])"
   ]
  },
  {
   "cell_type": "code",
   "execution_count": null,
   "metadata": {},
   "outputs": [],
   "source": [
    "filepath = 'data/moby_dick_melville.txt'\n",
    "\n",
    "with open(filepath, mode='r') as f:\n",
    "    new_lines = []\n",
    "    for line in f:\n",
    "        new_line = line.strip()\n",
    "        new_line = new_line.replace('\\ufeff', '')\n",
    "        new_lines.append(new_line)\n",
    "\n",
    "new_lines[:10]"
   ]
  },
  {
   "attachments": {},
   "cell_type": "markdown",
   "metadata": {},
   "source": [
    "#### read() *vs.* readline() *vs.* readlines() 함수 차이\n",
    "- **read()**: 텍스트 파일 전체를 하나로 읽어 하나의 문자열(string)으로 저장한다.. 이 때 각 라인 끝에는 '\\n'이 추가되어 라인 구분자 역할을 한다.\n",
    "- **readline()**: 텍스트 파일을 한 줄만 읽어 문자열로 저장한다.\n",
    "- **readlines()**: 텍스트 파일의 전체 라인을 읽어 문자열로 이루어진 리스트(list)로 저장한다. "
   ]
  },
  {
   "cell_type": "code",
   "execution_count": null,
   "metadata": {},
   "outputs": [],
   "source": [
    "filepath = 'data/moby_dick_melville.txt'\n",
    "\n",
    "with open(filepath, mode='r') as f:\n",
    "    doc_from_read = f.read()\n",
    "\n",
    "print(len(doc_from_read))\n",
    "print(doc_from_read[:500])"
   ]
  },
  {
   "cell_type": "code",
   "execution_count": null,
   "metadata": {},
   "outputs": [],
   "source": [
    "filepath = 'data/moby_dick_melville.txt'\n",
    "\n",
    "with open(filepath, mode='r') as f:\n",
    "    doc_from_readline = f.readline()\n",
    "\n",
    "print(len(doc_from_readline))\n",
    "print(doc_from_readline)"
   ]
  },
  {
   "cell_type": "code",
   "execution_count": null,
   "metadata": {},
   "outputs": [],
   "source": [
    "filepath = 'data/moby_dick_melville.txt'\n",
    "\n",
    "with open(filepath, mode='r') as f:\n",
    "    doc_from_readlines = f.readlines()\n",
    "\n",
    "print(len(doc_from_readlines))\n",
    "print(doc_from_readlines[:10])"
   ]
  },
  {
   "attachments": {},
   "cell_type": "markdown",
   "metadata": {},
   "source": [
    "따라서 파일을 라인 구분 필요없이 통으로 읽을 때에는 **read()** 함수를, 라인별로 읽을 필요가 있을 때에는 **readlines()** 함수를 이용한다. "
   ]
  },
  {
   "attachments": {},
   "cell_type": "markdown",
   "metadata": {},
   "source": [
    "#### 읽은 파일을 파일 이름을 바꾸어 그대로 저장하기"
   ]
  },
  {
   "cell_type": "code",
   "execution_count": 3,
   "metadata": {},
   "outputs": [],
   "source": [
    "filepath = 'data/moby_dick_melville.txt'\n",
    "\n",
    "with open(filepath, mode='r') as f:\n",
    "    doc = f.readlines()\n",
    "\n",
    "filepath_1 = 'data/moby_dick_melville_duplicate.txt'\n",
    "\n",
    "f = open(filepath_1, mode='w')\n",
    "f.writelines(doc)\n",
    "f.close()"
   ]
  },
  {
   "attachments": {},
   "cell_type": "markdown",
   "metadata": {},
   "source": [
    "다음과 같이 실행할 수도 있다. 파일을 읽을 때와 같으며 open() 함수의 작업 모드만 'r'에서 'w'로 바꾸어주면 된다."
   ]
  },
  {
   "cell_type": "code",
   "execution_count": 4,
   "metadata": {},
   "outputs": [],
   "source": [
    "filepath_1 = 'data/moby_dick_melville_1.txt'\n",
    "\n",
    "with open(filepath_1, 'w') as f:\n",
    "    f.writelines(doc)"
   ]
  },
  {
   "attachments": {},
   "cell_type": "markdown",
   "metadata": {},
   "source": [
    "#### 텍스트에서 본문(Chapter 1부터 Epilogue까지)만 새로운 텍스트 파일로 저장하기\n",
    "- 파일을 에디터로 열어서 확인해 보면 본문의 Chapter 1(Loomings)의 시작점이 845번째 라인이고 끝점이 21960번째 라인임을 알 수 있다. \n",
    "- 845번째 라인부터 21960번째 라인까지 슬라이싱하는 방법은 doc[844:21959]와 같다. python에서 인덱스의 시작점은 0이다. 따라서 845번째 라인은 doc[844]이고 21960번째 라인은 doc[21959]이다. "
   ]
  },
  {
   "cell_type": "code",
   "execution_count": 9,
   "metadata": {},
   "outputs": [],
   "source": [
    "filepath = 'data/moby_dick_melville.txt'\n",
    "\n",
    "with open(filepath, mode='r') as f:\n",
    "    doc = f.readlines()\n",
    "\n",
    "doc_reduced = doc[844:21959]\n",
    "\n",
    "filepath_2 = 'data/moby_dick_melville_only_body.txt'\n",
    "\n",
    "with open(filepath_2, 'w') as f:\n",
    "    f.writelines(doc_reduced)"
   ]
  },
  {
   "attachments": {},
   "cell_type": "markdown",
   "metadata": {},
   "source": [
    "#### 파일을 두 개 이상 읽는 방법\n",
    "- 파일들이 위치한 디렉토리(폴더)를 지정하고\n",
    "- 그 디렉토리에 있는 파일들의 목록을 읽은 후\n",
    "- 목록에 있는 파일들을 **read()**나 **readlines()**로 읽어서 변수에 저장한다."
   ]
  },
  {
   "cell_type": "code",
   "execution_count": null,
   "metadata": {},
   "outputs": [],
   "source": [
    "import os\n",
    "\n",
    "target_dir = 'data'\n",
    "target_files = os.listdir(target_dir)\n",
    "\n",
    "print(target_files)"
   ]
  },
  {
   "cell_type": "code",
   "execution_count": null,
   "metadata": {},
   "outputs": [],
   "source": [
    "all_docs = []\n",
    "for file in target_files:\n",
    "    with open(os.path.join(target_dir, file), 'r') as f:\n",
    "        doc = f.read()\n",
    "        all_docs.append(doc)\n",
    "\n",
    "len(all_docs)"
   ]
  },
  {
   "attachments": {},
   "cell_type": "markdown",
   "metadata": {},
   "source": [
    "#### 텍스트에서 챕터 제목 라인만 출력하기\n",
    "- 챕터 제목의 형식을 먼저 확인하고 이 형식에 맞게 챕터 제목을 만든다.\n",
    "- 이 챕터 제목을 읽은 문서에서 찾는다."
   ]
  },
  {
   "cell_type": "code",
   "execution_count": null,
   "metadata": {},
   "outputs": [],
   "source": [
    "filepath = '../data/moby_dick_melville.txt'\n",
    "\n",
    "with open(filepath, mode='r') as f:\n",
    "    doc = f.readlines()\n",
    "\n",
    "doc = doc[844:21959]\n",
    "\n",
    "chapter_name = 'CHAPTER'\n",
    "\n",
    "chapter_titles = []\n",
    "for line in doc:\n",
    "    if chapter_name in line:\n",
    "        chapter_titles.append(line)\n",
    "\n",
    "print(chapter_titles)"
   ]
  },
  {
   "attachments": {},
   "cell_type": "markdown",
   "metadata": {},
   "source": [
    "#### 챕터 제목과 챕터 제목이 들어간 라인 번호를 같이 저장하기"
   ]
  },
  {
   "cell_type": "code",
   "execution_count": null,
   "metadata": {},
   "outputs": [],
   "source": [
    "chapter_name = 'CHAPTER'\n",
    "\n",
    "chapter_line_num = 0\n",
    "chapter_titles = []\n",
    "for line in doc:\n",
    "    chapter_line_num += 1\n",
    "\n",
    "    if chapter_name in line:        \n",
    "        chapter_titles.append((chapter_line_num, line.strip()))\n",
    "\n",
    "print(chapter_titles)"
   ]
  },
  {
   "attachments": {},
   "cell_type": "markdown",
   "metadata": {},
   "source": [
    "#### 같은 정보를 정규식(regular expressions)을 이용하여 추출할 수도 있다. 정규식에 대한 자세한 내용은 tutorial_02에서 다룬다."
   ]
  },
  {
   "cell_type": "code",
   "execution_count": 5,
   "metadata": {},
   "outputs": [],
   "source": [
    "import re\n",
    "\n",
    "chapter_name = '^CHAPTER \\d+'\n",
    "\n",
    "chapter_titles = []\n",
    "for line in doc:\n",
    "    matched = re.search(chapter_name, line)\n",
    "    if matched is None:\n",
    "        next\n",
    "    else:\n",
    "        match_str = matched.string.strip()\n",
    "        chapter_titles.append(match_str)"
   ]
  },
  {
   "cell_type": "code",
   "execution_count": null,
   "metadata": {},
   "outputs": [],
   "source": [
    "print(chapter_titles)"
   ]
  },
  {
   "attachments": {},
   "cell_type": "markdown",
   "metadata": {},
   "source": [
    "#### 11. 챕터 제목과 챕터 제목이 위치한 라인 정보를 텍스트 파일로 내보내기"
   ]
  },
  {
   "cell_type": "code",
   "execution_count": 12,
   "metadata": {},
   "outputs": [],
   "source": [
    "with open('../data/moby_dick_linenum_title.txt', 'w') as f:\n",
    "  for linenum, title in chapter_titles:\n",
    "      line_and_title = str(linenum) + \"\\t\" + title + '\\n'\n",
    "      f.write(line_and_title)"
   ]
  },
  {
   "attachments": {},
   "cell_type": "markdown",
   "metadata": {},
   "source": [
    "#### 12. 이미 저장되어 있는 파일에 새로운 내용을 이어서 저장하기"
   ]
  },
  {
   "cell_type": "code",
   "execution_count": 147,
   "metadata": {},
   "outputs": [],
   "source": [
    "filepath = '../data/write_append_test.txt'\n",
    "sent = 'Moby-Dick; or, The Whale is an 1851 novel by American writer Herman Melville.'\n",
    "\n",
    "with open(filepath, 'w') as f:\n",
    "  f.write(sent)\n",
    "\n",
    "sents_added = \\\n",
    "\"\"\"\\nThe book is the sailor Ishmael's narrative of the obsessive quest of Ahab,\\\n",
    "captain of the whaling ship Pequod,\\\n",
    "for revenge against Moby Dick, the giant white sperm whale that on the ship's previous voyage bit off Ahab's leg at the knee.\\n\\\n",
    "A contribution to the literature of the American Renaissance, Moby-Dick was published to mixed reviews, was a commercial failure,\\\n",
    "and was out of print at the time of the author's death in 1891.\"\"\"\n",
    "\n",
    "with open(filepath, 'a') as f:\n",
    "    f.write(sents_added)"
   ]
  },
  {
   "attachments": {},
   "cell_type": "markdown",
   "metadata": {},
   "source": [
    "#### Tip\n",
    "*for...* 구문 대신 아래와 같이 보다 간단한 표현식으로 챕터 제목을 추출하는 방법도 있다."
   ]
  },
  {
   "cell_type": "code",
   "execution_count": null,
   "metadata": {},
   "outputs": [],
   "source": [
    "chapter_name = '^CHAPTER \\d+'\n",
    "\n",
    "chapter_titles = [line.strip() for line in doc if re.search(chapter_name, line)]\n",
    "\n",
    "print(chapter_titles)"
   ]
  },
  {
   "attachments": {},
   "cell_type": "markdown",
   "metadata": {},
   "source": [
    "### [종합] data 폴더에 저장되어 있는 파일들 중 frankenstein_shelley.txt, dracula_Stoker.txt, moby_dick_melville.txt 등 3개의 파일을 읽어, 챕터 제목과 챕터 제목이 위치한 라인 번호를 추출한 후, 결과를 각각의 파일로 저장하기"
   ]
  },
  {
   "cell_type": "code",
   "execution_count": 120,
   "metadata": {},
   "outputs": [],
   "source": [
    "import os\n",
    "\n",
    "target_files = ['frankenstein_shelley.txt', 'dracula_Stoker.txt', 'moby_dick_melville.txt']\n",
    "target_dir = '../data'\n",
    "all_filenames = os.listdir(target_dir)\n",
    "# print(all_filenames)\n",
    "\n",
    "\n",
    "# *all_filenames*에 저장된 파일들 중 *target_files*의 이름과 일치하는 파일들만 고른 후 이 파일들의 경로 정보를 얻는다.\n",
    "target_files_path = []\n",
    "for filename in all_filenames:\n",
    "    if filename in target_files:\n",
    "        file_path = os.path.join(target_dir, filename)\n",
    "        target_files_path.append(file_path)\n",
    "\n",
    "# print(target_files_path)\n",
    "\n",
    "\n",
    "chapter_name = 'CHAPTER'\n",
    "all_books_chapter_titles = []\n",
    "for file_path in target_files_path:\n",
    "    with open(file_path, 'r') as f:\n",
    "        doc = f.readlines()\n",
    "        chapter_line_num = 0\n",
    "        chapter_titles = []\n",
    "        for line in doc:\n",
    "            chapter_line_num += 1\n",
    "            if chapter_name in line:        \n",
    "                chapter_titles.append((chapter_line_num, line.strip()))\n",
    "    all_books_chapter_titles.append(chapter_titles)\n",
    "\n",
    "\n",
    "write_files_path = []\n",
    "for filename in target_files:\n",
    "    new_filename = 'titles_' + filename\n",
    "    new_filepath = os.path.join(target_dir, new_filename)\n",
    "    write_files_path.append(new_filepath)\n",
    "\n",
    "\n",
    "for chapter_title, write_path in zip(all_books_chapter_titles, write_files_path):\n",
    "    with open(write_path, 'w') as f:\n",
    "        for linenum, title in chapter_title:\n",
    "            line_and_title = str(linenum) + \"\\t\" + title + '\\n'\n",
    "            f.write(line_and_title)"
   ]
  },
  {
   "attachments": {},
   "cell_type": "markdown",
   "metadata": {},
   "source": [
    "*zip()* 함수의 작동 원리는 아래와 같다."
   ]
  },
  {
   "cell_type": "code",
   "execution_count": null,
   "metadata": {},
   "outputs": [],
   "source": [
    "x = zip([1, 2, 3,], ['a', 'b', 'c'])\n",
    "i = 0\n",
    "while i <= 2:\n",
    "    print(next(x))\n",
    "    i += 1"
   ]
  }
 ],
 "metadata": {
  "kernelspec": {
   "display_name": "base",
   "language": "python",
   "name": "python3"
  },
  "language_info": {
   "codemirror_mode": {
    "name": "ipython",
    "version": 3
   },
   "file_extension": ".py",
   "mimetype": "text/x-python",
   "name": "python",
   "nbconvert_exporter": "python",
   "pygments_lexer": "ipython3",
   "version": "3.8.5 (default, Sep  4 2020, 07:30:14) \n[GCC 7.3.0]"
  },
  "orig_nbformat": 4,
  "vscode": {
   "interpreter": {
    "hash": "e95af396bccb82a7d0a8f34cabb7337ad9533090b71b3790bfd0101b96ddffc7"
   }
  }
 },
 "nbformat": 4,
 "nbformat_minor": 2
}
