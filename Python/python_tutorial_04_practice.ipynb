{
 "cells": [
  {
   "attachments": {},
   "cell_type": "markdown",
   "metadata": {},
   "source": [
    "## Dataframe 데이터 다루기 기초: pandas (https://hong-sam.tistory.com/100)\n",
    "- 데이터프레임(dataframe)은 행과 열을 가진 2 x 2 테이블로 엑셀의 스프레드시트와 유사한 구조를 가진 데이터 유형이다. \n",
    "- 텍스트 데이터를 저장하고 메타 정보를 이용하여 검색하기 위해 많이 사용하는 데이터 유형이기도 하다.\n",
    "- 데이터프레임을 생성, 조작, 저장하기 위해서는 **pandas** 라이브러리가 필요하다.\n",
    "- 데이터를 엑셀이나 csv 포맷 등으로 내보내거나 엑셀, csv 파일을 읽을 때에도 **pandas** 라이브러리를 이용한다."
   ]
  },
  {
   "attachments": {},
   "cell_type": "markdown",
   "metadata": {},
   "source": [
    "#### 1. dataframe 만들기\n",
    "- dataframe은 리스트(list)를 이용하거나 딕셔너리(dictionary)를 이용하여 만들 수 있다."
   ]
  },
  {
   "attachments": {},
   "cell_type": "markdown",
   "metadata": {},
   "source": [
    "##### List를 이용하여 dataframe 만들기"
   ]
  },
  {
   "cell_type": "code",
   "execution_count": null,
   "metadata": {},
   "outputs": [],
   "source": [
    "import pandas as pd\n",
    "\n",
    "list_a = ['a', 2, 3, True]\n",
    "list_b = ['b', 5, 6, False]\n",
    "list_c = ['c', 8, 9, True]\n",
    "\n",
    "frame_1 = pd.DataFrame([list_a, list_b, list_c])\n",
    "frame_1"
   ]
  },
  {
   "cell_type": "code",
   "execution_count": null,
   "metadata": {},
   "outputs": [],
   "source": [
    "print(\"The dimension of the dataframe is\", frame_1.shape)\n",
    "print(\"The row number of the dataframe is\", frame_1.shape[0])\n",
    "print(\"The column number of the dataframe is\", frame_1.shape[1])"
   ]
  },
  {
   "attachments": {},
   "cell_type": "markdown",
   "metadata": {},
   "source": [
    "- 리스트로 만든 dataframe의 열에 이름(인덱스)을 붙이는 방법은 다음과 같다."
   ]
  },
  {
   "cell_type": "code",
   "execution_count": null,
   "metadata": {},
   "outputs": [],
   "source": [
    "frame_1 = pd.DataFrame([list_a, list_b, list_c], index=[\"alpha\", \"bravo\", \"charlie\"])\n",
    "frame_1"
   ]
  },
  {
   "attachments": {},
   "cell_type": "markdown",
   "metadata": {},
   "source": [
    "- 리스트로 만든 dataframe의 칼럼에 이름을 붙이는 방법은 다음과 같다."
   ]
  },
  {
   "cell_type": "code",
   "execution_count": null,
   "metadata": {},
   "outputs": [],
   "source": [
    "frame_1 = pd.DataFrame([list_a, list_b, list_c], index=[\"alpha\", \"bravo\", \"charlie\"], columns=['alphabet', 'number_1', 'number_2', 'logi'])\n",
    "frame_1"
   ]
  },
  {
   "attachments": {},
   "cell_type": "markdown",
   "metadata": {},
   "source": [
    "##### Dictionary를 이용하여 dataframe 만들기\n",
    "- 위에서 리스트로 만든 것과 동일한 dataframe을 딕셔너리를 이용하여 만들 수 있다."
   ]
  },
  {
   "cell_type": "code",
   "execution_count": null,
   "metadata": {},
   "outputs": [],
   "source": [
    "dic_data = {\n",
    "    'alphabet': ['a', 'b', 'c'],\n",
    "    'number_1': [2, 5, 8],\n",
    "    'number_2': [3, 6, 9],\n",
    "    'logi': [True, False, True]\n",
    "}\n",
    "\n",
    "frame_2 = pd.DataFrame(dic_data, index=[\"alpha\", \"bravo\", \"charlie\"])\n",
    "frame_2"
   ]
  },
  {
   "attachments": {},
   "cell_type": "markdown",
   "metadata": {},
   "source": [
    "#### 2. Dataframe 검색하기"
   ]
  },
  {
   "attachments": {},
   "cell_type": "markdown",
   "metadata": {},
   "source": [
    "##### 열(column) 검색하기"
   ]
  },
  {
   "cell_type": "code",
   "execution_count": null,
   "metadata": {},
   "outputs": [],
   "source": [
    "print(frame_2['alphabet']); print(frame_2['logi'])"
   ]
  },
  {
   "cell_type": "code",
   "execution_count": null,
   "metadata": {},
   "outputs": [],
   "source": [
    "print(frame_2['alphabet'][0]); print(frame_2['logi'][0])"
   ]
  },
  {
   "cell_type": "code",
   "execution_count": null,
   "metadata": {},
   "outputs": [],
   "source": [
    "print(frame_2.alphabet); print(frame_2.logi)"
   ]
  },
  {
   "attachments": {},
   "cell_type": "markdown",
   "metadata": {},
   "source": [
    "##### 열(row) 검색하기: **loc()**와 **iloc()**\n",
    "- **loc()**: 인덱스명으로 검색\n",
    "- **iloc()**: 인덱스 위치값, 즛 인덱스 시퀀스(sequence)로 검색"
   ]
  },
  {
   "cell_type": "code",
   "execution_count": null,
   "metadata": {},
   "outputs": [],
   "source": [
    "print(frame_2.loc['alpha']); print(frame_2.loc['bravo'])"
   ]
  },
  {
   "cell_type": "code",
   "execution_count": null,
   "metadata": {},
   "outputs": [],
   "source": [
    "print(frame_2.loc['alpha'][0]); print(frame_2.loc['alpha'][1])"
   ]
  },
  {
   "cell_type": "code",
   "execution_count": null,
   "metadata": {},
   "outputs": [],
   "source": [
    "print(frame_2.iloc[0]); print(frame_2.iloc[1])"
   ]
  },
  {
   "cell_type": "code",
   "execution_count": null,
   "metadata": {},
   "outputs": [],
   "source": [
    "print(frame_2.iloc[0][0]); print(frame_2.iloc[1][0])"
   ]
  },
  {
   "attachments": {},
   "cell_type": "markdown",
   "metadata": {},
   "source": [
    "#### 3. 열(column)과 행(row) 추가하기"
   ]
  },
  {
   "attachments": {},
   "cell_type": "markdown",
   "metadata": {},
   "source": [
    "##### 행 추가하기"
   ]
  },
  {
   "cell_type": "code",
   "execution_count": null,
   "metadata": {},
   "outputs": [],
   "source": [
    "frame_col_added = pd.DataFrame(frame_2, columns=['alphabet', 'number_1', 'number_2', 'logi', 'symbol'])\n",
    "frame_col_added"
   ]
  },
  {
   "cell_type": "code",
   "execution_count": null,
   "metadata": {},
   "outputs": [],
   "source": [
    "frame_col_added['symbol'] = ['@', '&', '#']\n",
    "frame_col_added"
   ]
  },
  {
   "attachments": {},
   "cell_type": "markdown",
   "metadata": {},
   "source": [
    "##### 열 추가하기"
   ]
  },
  {
   "cell_type": "code",
   "execution_count": null,
   "metadata": {},
   "outputs": [],
   "source": [
    "frame_row_added = frame_col_added.copy()\n",
    "frame_row_added"
   ]
  },
  {
   "cell_type": "code",
   "execution_count": null,
   "metadata": {},
   "outputs": [],
   "source": [
    "frame_row_added.loc['delta'] = ['d', 10, 11, False, '~']\n",
    "frame_row_added"
   ]
  },
  {
   "attachments": {},
   "cell_type": "markdown",
   "metadata": {},
   "source": [
    "#### 4. 행과 열 삭제하기: **drop()**"
   ]
  },
  {
   "cell_type": "code",
   "execution_count": null,
   "metadata": {},
   "outputs": [],
   "source": [
    "frame_col_added = frame_row_added.drop('symbol', axis=1)\n",
    "frame_col_added"
   ]
  },
  {
   "cell_type": "code",
   "execution_count": null,
   "metadata": {},
   "outputs": [],
   "source": [
    "frame_row_added = frame_row_added.drop('delta', axis=0)\n",
    "frame_row_added"
   ]
  },
  {
   "attachments": {},
   "cell_type": "markdown",
   "metadata": {},
   "source": [
    "#### 5. 실제 dataframe에서 정보 검색해 보기\n",
    "- python_tutorial_03에서 실습했던 IMDb Top250 Movie 정보를 추출하여 dataframe으로 만들기\n",
    "- 만든 dataframe에서 정보 검색하기 "
   ]
  },
  {
   "cell_type": "code",
   "execution_count": null,
   "metadata": {},
   "outputs": [],
   "source": [
    "import requests\n",
    "from bs4 import BeautifulSoup\n",
    "import re\n",
    "\n",
    "url = 'https://www.imdb.com/chart/top?pf_rd_m=A2FGELUUNOQJNL&pf_rd_p=470df400-70d9-4f35-bb05-8646a1195842&pf_rd_r=74D09HPMTCCHQ2GNQSST&pf_rd_s=right-4&pf_rd_t=15506&pf_rd_i=top&ref_=chttp_ql_3'\n",
    "source = requests.get(url)\n",
    "source = source.content\n",
    "webpage = BeautifulSoup(source, 'html.parser')\n",
    "\n",
    "movie_list = webpage.find(name='tbody').find_all(name='tr')\n",
    "\n",
    "poster_image_urls = []\n",
    "movie_titles = []\n",
    "movie_urls = []\n",
    "movie_ranks = []\n",
    "movie_years = []\n",
    "movie_ratings = []\n",
    "for movie in movie_list:\n",
    "    poster_tag = movie.find(name='td').find('img')\n",
    "    poster_url = poster_tag.attrs['src']\n",
    "    poster_image_urls.append(poster_url)\n",
    "    \n",
    "    title_col = movie.find(name='td', class_='titleColumn')\n",
    "    title = title_col.find('a').get_text().strip()\n",
    "    title_url = title_col.find('a').attrs['href']\n",
    "    movie_titles.append(title)\n",
    "    movie_urls.append(title_url)\n",
    "\n",
    "    x = title_col.get_text().strip()\n",
    "    rank = re.search('^\\d{1,3}', x).group()\n",
    "    year = re.search('\\d{4}', x).group()    \n",
    "    # rank = re.search('^\\d{1,3}', title_col.get_text().strip()).group()\n",
    "    # year = re.search('\\d{4}', title_col.get_text().strip()).group()\n",
    "    movie_ranks.append(rank)\n",
    "    movie_years.append(year)\n",
    "    \n",
    "    rating = movie.find(name='td', class_='ratingColumn imdbRating').get_text().strip()\n",
    "    movie_ratings.append(rating)"
   ]
  },
  {
   "cell_type": "code",
   "execution_count": null,
   "metadata": {},
   "outputs": [],
   "source": [
    "import pandas as pd\n",
    "\n",
    "top_250_movie = pd.DataFrame({'포스터': poster_image_urls, \n",
    "                         '제목': movie_titles, \n",
    "                         '영화_url': movie_urls,\n",
    "                         '순위': movie_ranks,\n",
    "                         '상영연도': movie_years,\n",
    "                         '평점': movie_ratings\n",
    "                         }\n",
    "                         )\n",
    "\n",
    "top_250_movie.head()"
   ]
  },
  {
   "cell_type": "code",
   "execution_count": null,
   "metadata": {},
   "outputs": [],
   "source": [
    "top_250_movie.info()"
   ]
  },
  {
   "cell_type": "code",
   "execution_count": null,
   "metadata": {},
   "outputs": [],
   "source": [
    "top_250_movie = top_250_movie.astype({'순위': 'int', '상영연도': 'int', '평점': 'float'})\n",
    "top_250_movie.info()"
   ]
  },
  {
   "attachments": {},
   "cell_type": "markdown",
   "metadata": {},
   "source": [
    "##### Dataframe 검색해 보기"
   ]
  },
  {
   "attachments": {},
   "cell_type": "markdown",
   "metadata": {},
   "source": [
    "- '평점'이 9.0 이상인 열의 정보만 출력하기 (1)"
   ]
  },
  {
   "cell_type": "code",
   "execution_count": null,
   "metadata": {},
   "outputs": [],
   "source": [
    "top_250_movie[top_250_movie['평점'] >= 9.0]"
   ]
  },
  {
   "attachments": {},
   "cell_type": "markdown",
   "metadata": {},
   "source": [
    "- '평점'이 9.0 이상인 열의 정보만 출력하기 (2)"
   ]
  },
  {
   "cell_type": "code",
   "execution_count": null,
   "metadata": {},
   "outputs": [],
   "source": [
    "top_250_movie.loc[top_250_movie['평점'] >= 9.0]"
   ]
  },
  {
   "attachments": {},
   "cell_type": "markdown",
   "metadata": {},
   "source": [
    "- '평점'이 9.0 미만이면서 8.7 이상인 열의 정보만 출력하기"
   ]
  },
  {
   "cell_type": "code",
   "execution_count": null,
   "metadata": {},
   "outputs": [],
   "source": [
    "top_250_movie[(top_250_movie['평점'] < 9.0) & (top_250_movie['평점'] >= 8.7)]"
   ]
  },
  {
   "attachments": {},
   "cell_type": "markdown",
   "metadata": {},
   "source": [
    "- '평점'이 8.0을 초과하면서 '상영연도'가 2020년 이후인 열의 정보만 출력하기"
   ]
  },
  {
   "cell_type": "code",
   "execution_count": null,
   "metadata": {},
   "outputs": [],
   "source": [
    "top_250_movie[(top_250_movie['평점'] > 8.0) & (top_250_movie['상영연도'] >= 2020)]"
   ]
  },
  {
   "attachments": {},
   "cell_type": "markdown",
   "metadata": {},
   "source": [
    "- '평점'이 8.8을 초과하거나(or) '상영연도'가 2020년 이후인 열의 정보만 출력하기"
   ]
  },
  {
   "cell_type": "code",
   "execution_count": null,
   "metadata": {},
   "outputs": [],
   "source": [
    "top_250_movie[(top_250_movie['평점'] > 8.8) | (top_250_movie['상영연도'] >= 2020)]"
   ]
  },
  {
   "attachments": {},
   "cell_type": "markdown",
   "metadata": {},
   "source": [
    "- '제목'이 정확히 Daeboo와 일치하는 열만 출력하기"
   ]
  },
  {
   "cell_type": "code",
   "execution_count": null,
   "metadata": {},
   "outputs": [],
   "source": [
    "top_250_movie[top_250_movie['제목'] == 'Daeboo']"
   ]
  },
  {
   "attachments": {},
   "cell_type": "markdown",
   "metadata": {},
   "source": [
    "- '제목'에 'ment'라는 문자열이 포함된 열만 출력하기"
   ]
  },
  {
   "cell_type": "code",
   "execution_count": null,
   "metadata": {},
   "outputs": [],
   "source": [
    "top_250_movie[top_250_movie['제목'].str.contains('ment')]"
   ]
  },
  {
   "attachments": {},
   "cell_type": "markdown",
   "metadata": {},
   "source": [
    "- 조건에 맞는 행의 인덱스 얻기"
   ]
  },
  {
   "cell_type": "code",
   "execution_count": null,
   "metadata": {},
   "outputs": [],
   "source": [
    "top_250_movie.index[top_250_movie['평점'] >= 9.0].to_list()"
   ]
  },
  {
   "attachments": {},
   "cell_type": "markdown",
   "metadata": {},
   "source": [
    "#### 6. Dataframe 파일에 쓰기: 엑셀 및 csv 파일"
   ]
  },
  {
   "cell_type": "code",
   "execution_count": null,
   "metadata": {},
   "outputs": [],
   "source": [
    "top_250_movie.to_excel('../result/top_250_movie.xlsx', index=False)\n",
    "top_250_movie.to_csv('../result/top_250_movie.csv', index=False)"
   ]
  },
  {
   "attachments": {},
   "cell_type": "markdown",
   "metadata": {},
   "source": [
    "#### 7. 엑셀 및 csv 파일을 읽어 dataframe에 저장하기"
   ]
  },
  {
   "cell_type": "code",
   "execution_count": null,
   "metadata": {},
   "outputs": [],
   "source": [
    "read_excel = pd.read_excel('../result/top_250_movie.xlsx', )\n",
    "read_csv = pd.read_csv('../result/top_250_movie.csv')"
   ]
  },
  {
   "cell_type": "code",
   "execution_count": null,
   "metadata": {},
   "outputs": [],
   "source": [
    "read_excel.head()"
   ]
  },
  {
   "cell_type": "code",
   "execution_count": null,
   "metadata": {},
   "outputs": [],
   "source": [
    "top_250_movie.equals(read_excel)"
   ]
  },
  {
   "attachments": {},
   "cell_type": "markdown",
   "metadata": {},
   "source": [
    "#### 8. 네이버 지식인(Moby Dick) 웹 페이지 파싱 후 dataframe으로 만들기"
   ]
  },
  {
   "cell_type": "code",
   "execution_count": null,
   "metadata": {},
   "outputs": [],
   "source": [
    "import requests\n",
    "from bs4 import BeautifulSoup\n",
    "import re\n",
    "\n",
    "url = 'https://kin.naver.com/search/list.naver?query=%ED%97%88%EB%A8%BC+%EB%A9%9C%EB%B9%8C'\n",
    "source = requests.get(url)\n",
    "source = source.content\n",
    "\n",
    "webpage = BeautifulSoup(source, 'html.parser')\n",
    "q_list = webpage.find(name='ul', class_='basic1')\n",
    "q_list = q_list.find_all(name='li')\n",
    "# q_list = webpage.find(name='ul', class_='basic1').find_all(name='li')\n",
    "\n",
    "print('The number of q_list is', len(q_list))\n",
    "\n",
    "q_titles = []\n",
    "q_texts = []\n",
    "q_dates = []\n",
    "replies = []\n",
    "for q in q_list:\n",
    "    tit = q.find(name='a').get_text()\n",
    "    date = q.find(name='dd', class_='txt_inline').get_text()\n",
    "    txt = q.find(name='dd', attrs={'class': None}).get_text()\n",
    "    repl = q.find(name='span', class_='hit').get_text()\n",
    "    repl = int(re.sub('답변수 ', '', repl))\n",
    "\n",
    "    q_titles.append(tit)\n",
    "    q_texts.append(txt)\n",
    "    q_dates.append(date)\n",
    "    replies.append(repl)\n",
    "\n",
    "print('The number of q_titles is', len(q_list))\n",
    "print('The number of q_texts is', len(q_list))\n",
    "print('The number of q_dates is', len(q_list))\n",
    "print('The number of replies is', len(q_list))"
   ]
  },
  {
   "cell_type": "code",
   "execution_count": null,
   "metadata": {},
   "outputs": [],
   "source": [
    "import pandas as pd\n",
    "\n",
    "q_list_df = pd.DataFrame({'제목': q_titles, \n",
    "                         '내용': q_texts, \n",
    "                         '날짜': q_dates,\n",
    "                         '답변수': replies}\n",
    "                         )\n",
    "\n",
    "q_list_df.head(3)"
   ]
  },
  {
   "attachments": {},
   "cell_type": "markdown",
   "metadata": {},
   "source": [
    "- '날짜' 칼럼의 형식을 컴퓨터에서 인식할 수 있는 날짜 포맷(datetime)을 변경한다."
   ]
  },
  {
   "cell_type": "code",
   "execution_count": null,
   "metadata": {},
   "outputs": [],
   "source": [
    "q_list_df['날짜'] = q_list_df['날짜'].replace('\\.', '-', regex=True).replace('-$', '', regex=True)\n",
    "q_list_df.head(3)"
   ]
  },
  {
   "cell_type": "code",
   "execution_count": null,
   "metadata": {},
   "outputs": [],
   "source": [
    "q_list_df['날짜'] = pd.to_datetime(q_list_df['날짜'], format='%Y-%m-%d')\n",
    "q_list_df.head(3)"
   ]
  },
  {
   "cell_type": "code",
   "execution_count": null,
   "metadata": {},
   "outputs": [],
   "source": [
    "q_list_df.query('\"2022-01-01\" <= 날짜 <= \"2022-12-31\"')"
   ]
  }
 ],
 "metadata": {
  "kernelspec": {
   "display_name": "tensorflow2",
   "language": "python",
   "name": "python3"
  },
  "language_info": {
   "codemirror_mode": {
    "name": "ipython",
    "version": 3
   },
   "file_extension": ".py",
   "mimetype": "text/x-python",
   "name": "python",
   "nbconvert_exporter": "python",
   "pygments_lexer": "ipython3",
   "version": "3.7.7 (default, Mar 26 2020, 15:48:22) \n[GCC 7.3.0]"
  },
  "orig_nbformat": 4,
  "vscode": {
   "interpreter": {
    "hash": "dfc0dc50c02b1a72f9c8c18b28cc5d6f7acf02306ca98ebb94c55727de830630"
   }
  }
 },
 "nbformat": 4,
 "nbformat_minor": 2
}
