{
 "cells": [
  {
   "attachments": {},
   "cell_type": "markdown",
   "metadata": {},
   "source": [
    "## Python 사용을 위한 준비 단계\n",
    "- 파이썬 코딩 연습을 위한 환경 설정\n",
    "- 프로그래밍 기초 원리\n",
    "- 파이썬 코딩의 기초: 변수 설정, 데이터 타입, 슬라이싱 등"
   ]
  },
  {
   "attachments": {},
   "cell_type": "markdown",
   "metadata": {},
   "source": [
    "#### 1. 필요 도구\n",
    "- Python (ver. 3.10)\n",
    "- Google Colab\n",
    "<!-- - Jupyter notebook -->\n",
    "- Notepad++\n",
    "- AntConc"
   ]
  },
  {
   "attachments": {},
   "cell_type": "markdown",
   "metadata": {},
   "source": [
    "##### 사용 환경\n",
    "- Google Colab: 구글 계정만 있으면 별다른 프로그램 설치 없이 Python 및 R 프로그래밍을 바로 시작할 수 있다.\n",
    "- Colab 세팅 및 기본 사용법은 아래 링크에 자세히 설명되어 있다.\n",
    "- https://velog.io/@s6820w/colab1\n",
    "- https://nevertrustbrutus.tistory.com/365"
   ]
  },
  {
   "attachments": {},
   "cell_type": "markdown",
   "metadata": {},
   "source": [
    "#### 2. Python 프로그래밍의 기본 단위\n",
    "- Python 프로그래밍은 기본적으로 (이는 파이썬을 비롯한 다른 언어도 동일하다)\n",
    "1. 변수를 지정하고,\n",
    "1. 변수에 값을 넣고(또는 할당하고),\n",
    "1. 값이 채워진 변수를 다른 명령어로 조작하는\n",
    "- 세 단계로 이루어진다. 이 최소 블록들을 여러 개 쌓아올리면 하나의 프로그램을 만들 수 있다."
   ]
  },
  {
   "cell_type": "code",
   "execution_count": null,
   "metadata": {},
   "outputs": [],
   "source": [
    "hello = \"Hello, World!\"\n",
    "print(hello)"
   ]
  },
  {
   "cell_type": "code",
   "execution_count": null,
   "metadata": {},
   "outputs": [],
   "source": [
    "sentences = \"국내 연구진이 실내외 환경 구분 없이 정밀한 위치인식이 가능한 '위성위치확인시스템(GPS)' 시스템을 개발했다. 실내지도가 제공되지 않는 건물에서 사용자가 위치한 층의 정확한 정보를 제공할 수 있는 수준이다. [출처: 동아사이언스(https://news.v.daum.net/v/20220708160023490)]\"\n",
    "sentences_cleaned = sentences.replace(\".\", \"\")\n",
    "words = sentences_cleaned.split(' ')\n",
    "num_words = len(words)"
   ]
  },
  {
   "cell_type": "code",
   "execution_count": null,
   "metadata": {},
   "outputs": [],
   "source": [
    "print(words)"
   ]
  },
  {
   "cell_type": "code",
   "execution_count": null,
   "metadata": {},
   "outputs": [],
   "source": [
    "print(num_words)"
   ]
  },
  {
   "attachments": {},
   "cell_type": "markdown",
   "metadata": {},
   "source": [
    "#### 3. Python을 이용한 텍스트 처리에서 자주 사용할 데이터 유형(https://velog.io/@jewon119/01.-Python-%EA%B8%B0%EC%B4%88-%EB%8D%B0%EC%9D%B4%ED%84%B0-%ED%83%80%EC%9E%85data-type)\n",
    "- 문자열(str): 단어, 문장, 문서 등 문자로 된 유형. 문자를 다룰 수 있는 다양한 추가, 삽입, 수정, 삭제 기능을 제공함(길이 구하기, 인덱싱, 슬라이싱, 갯수 세기, 위치 찾기, 삽입, 대체하기, 나누기 등..). \n",
    "- 리스트(list): 하나 이상의 원소로 이루어진 묶음. [...]로 나타낸다. 문자열, 숫자 등이 원소가 될 수 있다. 리스트가 다른 리스트의 원소가 될 수도 있다. 인덱싱(indexing)과 슬라이싱(slicing) 사용 가능. 수정, 삭제, 추가, 정렬, 뒤집기, 삽입 등 모두 가능\n",
    "- 딕셔너리(dictionary): 리스트처럼 하나 이상의 원소로 이루어진 묶음. 이때 원소는 key: value 쌍의 형태이다. {...}로 나타낸다. {key1:value1, key2:value2, key3:value3, ...key(N):value(N)}. 순차적인 index값을 요구하지 않는다.\n",
    "- 데이터프레임(dataframe): 엑셀 파일과 같이 행과 열로 이루어진 데이터 유형. python의 고유한 데이터 유형은 아니지만 pandas라는 라이브러리를 통해 생성할 수 있다."
   ]
  },
  {
   "attachments": {},
   "cell_type": "markdown",
   "metadata": {},
   "source": [
    "#### 4. 문자열 다루기"
   ]
  },
  {
   "attachments": {},
   "cell_type": "markdown",
   "metadata": {},
   "source": [
    "##### 문자열 입력하기"
   ]
  },
  {
   "cell_type": "code",
   "execution_count": null,
   "metadata": {},
   "outputs": [],
   "source": [
    "string_1 = 'character'\n",
    "string_2 = \"This is a character string.\"\n",
    "string_3 = \"Dave's most favourite food is pizza.\"\n",
    "string_3_1 = 'Dave\\'s most favourite food is pizza.'\n",
    "string_4 = '\"Hello there\", she said.'\n",
    "string_4_1 = \"\\\"Hello there\\\", she said.\""
   ]
  },
  {
   "cell_type": "code",
   "execution_count": null,
   "metadata": {},
   "outputs": [],
   "source": [
    "print(string_3)"
   ]
  },
  {
   "cell_type": "code",
   "execution_count": null,
   "metadata": {},
   "outputs": [],
   "source": [
    "print(string_3_1)"
   ]
  },
  {
   "attachments": {},
   "cell_type": "markdown",
   "metadata": {},
   "source": [
    "##### 문자열 길이 구하기\n",
    "- 저장된 문자열이 몇 개의 문자로 이루어졌는지 확인"
   ]
  },
  {
   "cell_type": "code",
   "execution_count": null,
   "metadata": {},
   "outputs": [],
   "source": [
    "str_len = len(string_1)\n",
    "print(str_len)"
   ]
  },
  {
   "cell_type": "code",
   "execution_count": null,
   "metadata": {},
   "outputs": [],
   "source": [
    "print(len(string_2))"
   ]
  },
  {
   "cell_type": "code",
   "execution_count": null,
   "metadata": {},
   "outputs": [],
   "source": [
    "print(len(string_4))"
   ]
  },
  {
   "attachments": {},
   "cell_type": "markdown",
   "metadata": {},
   "source": [
    "##### 문자열 인덱싱 및 슬라이싱\n",
    "- 문자열 내의 각 문자의 위치값을 이용하여 특정 위치에 위치한 문자를 추출할 수 있다."
   ]
  },
  {
   "cell_type": "code",
   "execution_count": null,
   "metadata": {},
   "outputs": [],
   "source": [
    "print(string_3[0])"
   ]
  },
  {
   "cell_type": "code",
   "execution_count": null,
   "metadata": {},
   "outputs": [],
   "source": [
    "print(string_3[7])"
   ]
  },
  {
   "cell_type": "code",
   "execution_count": null,
   "metadata": {},
   "outputs": [],
   "source": [
    "print(string_3[-1])"
   ]
  },
  {
   "cell_type": "code",
   "execution_count": null,
   "metadata": {},
   "outputs": [],
   "source": [
    "print(string_3[0:5])"
   ]
  },
  {
   "cell_type": "code",
   "execution_count": null,
   "metadata": {},
   "outputs": [],
   "source": [
    "print(string_3[:5])"
   ]
  },
  {
   "cell_type": "code",
   "execution_count": null,
   "metadata": {},
   "outputs": [],
   "source": [
    "print(string_3[5:])"
   ]
  },
  {
   "cell_type": "code",
   "execution_count": null,
   "metadata": {},
   "outputs": [],
   "source": [
    "print(string_1[-1])"
   ]
  },
  {
   "cell_type": "code",
   "execution_count": null,
   "metadata": {},
   "outputs": [],
   "source": [
    "print(string_1[-3:])"
   ]
  },
  {
   "attachments": {},
   "cell_type": "markdown",
   "metadata": {},
   "source": [
    "##### 문자 갯수 세기"
   ]
  },
  {
   "cell_type": "code",
   "execution_count": null,
   "metadata": {},
   "outputs": [],
   "source": [
    "print(string_3.count('o'))"
   ]
  },
  {
   "cell_type": "code",
   "execution_count": null,
   "metadata": {},
   "outputs": [],
   "source": [
    "print(string_3.count('a'))"
   ]
  },
  {
   "attachments": {},
   "cell_type": "markdown",
   "metadata": {},
   "source": [
    "##### 문자열에 문자 삽입하기\n",
    "- **'추가할 문자'.join()**을 사용하여 기존 문자열에 새로운 문자를 추가할 수 있다."
   ]
  },
  {
   "cell_type": "code",
   "execution_count": null,
   "metadata": {},
   "outputs": [],
   "source": [
    "new_string_1 = '-'.join(string_1)\n",
    "print(new_string_1)"
   ]
  },
  {
   "cell_type": "code",
   "execution_count": null,
   "metadata": {},
   "outputs": [],
   "source": [
    "print('.'.join(string_1))"
   ]
  },
  {
   "attachments": {},
   "cell_type": "markdown",
   "metadata": {},
   "source": [
    "##### 문자열 양쪽 공백 지우기\n",
    "- 문자열의 시작 부분과 끝 부분에 불필요한 공백이 있을 때 **.strip()** 함수를 사용하여 삭제할 수 있다.\n",
    "- 여러 라인으로 구성된 텍스트 파일을 읽어 각 라인의 앞뒤 공백을 지우고자 할 때 사용한다. "
   ]
  },
  {
   "cell_type": "code",
   "execution_count": null,
   "metadata": {},
   "outputs": [],
   "source": [
    "string_5 = '    character    '\n",
    "string_5_1 = string_5.strip()\n",
    "print(string_5_1)"
   ]
  },
  {
   "attachments": {},
   "cell_type": "markdown",
   "metadata": {},
   "source": [
    "##### 대소문자로 바꾸기"
   ]
  },
  {
   "cell_type": "code",
   "execution_count": null,
   "metadata": {},
   "outputs": [],
   "source": [
    "new_string_1 = string_1.upper()\n",
    "print(new_string_1)"
   ]
  },
  {
   "cell_type": "code",
   "execution_count": null,
   "metadata": {},
   "outputs": [],
   "source": [
    "print(new_string_1.lower())"
   ]
  },
  {
   "attachments": {},
   "cell_type": "markdown",
   "metadata": {},
   "source": [
    "##### 문자열 바꾸기\n",
    "- **.replace()** 함수로 문자열 내의 특정 문자를 다른 것으로 교체할 수 있다."
   ]
  },
  {
   "cell_type": "code",
   "execution_count": null,
   "metadata": {},
   "outputs": [],
   "source": [
    "print(string_3.replace('pizza', 'hamburger'))"
   ]
  },
  {
   "cell_type": "code",
   "execution_count": null,
   "metadata": {},
   "outputs": [],
   "source": [
    "print(string_3.replace('Dave', 'Jane'))"
   ]
  },
  {
   "attachments": {},
   "cell_type": "markdown",
   "metadata": {},
   "source": [
    "##### 문자열 나누기(분할하기)"
   ]
  },
  {
   "cell_type": "code",
   "execution_count": null,
   "metadata": {},
   "outputs": [],
   "source": [
    "splitted_string_3 = string_3.split()\n",
    "print(splitted_string_3)"
   ]
  },
  {
   "cell_type": "code",
   "execution_count": null,
   "metadata": {},
   "outputs": [],
   "source": [
    "type(splitted_string_3)"
   ]
  },
  {
   "cell_type": "code",
   "execution_count": null,
   "metadata": {},
   "outputs": [],
   "source": [
    "type(string_3)"
   ]
  },
  {
   "cell_type": "code",
   "execution_count": null,
   "metadata": {},
   "outputs": [],
   "source": [
    "string_6 = 'character, letter, number'\n",
    "print(string_6.split(', '))"
   ]
  },
  {
   "attachments": {},
   "cell_type": "markdown",
   "metadata": {},
   "source": [
    "#### 5. 리스트 다루기: [...]\n",
    "- 리스트는 하나 이상의 요소(element)를 가지는 집합과 유사한 개념\n",
    "- 인덱싱과 슬라이싱을 통해 일부 요소의 추출 가능"
   ]
  },
  {
   "attachments": {},
   "cell_type": "markdown",
   "metadata": {},
   "source": [
    "##### 리스트 만들기\n",
    "- 리스트는 []를 사용하여 만들 수 있다. 이 [] 내에 문자, 숫자, 리스트 등이 구성 요소로 들어간다."
   ]
  },
  {
   "cell_type": "code",
   "execution_count": null,
   "metadata": {},
   "outputs": [],
   "source": [
    "list_1 = [1, 2, 3, 4, 5]\n",
    "list_1_1 = [5, 4, 3, 2, 1]\n",
    "list_2 = ['apple', 'banana', 'orange', 'pineapple', 'watermelon']"
   ]
  },
  {
   "cell_type": "code",
   "execution_count": null,
   "metadata": {},
   "outputs": [],
   "source": [
    "print(list_2)"
   ]
  },
  {
   "cell_type": "code",
   "execution_count": null,
   "metadata": {},
   "outputs": [],
   "source": [
    "list_3 = []\n",
    "list_3.append(9)\n",
    "list_3.append(10)\n",
    "print(list_3)"
   ]
  },
  {
   "cell_type": "code",
   "execution_count": null,
   "metadata": {},
   "outputs": [],
   "source": [
    "del list_3[1]\n",
    "print(list_3)"
   ]
  },
  {
   "attachments": {},
   "cell_type": "markdown",
   "metadata": {},
   "source": [
    "##### 리스트 인덱싱 및 슬라이싱(slicing)하기"
   ]
  },
  {
   "cell_type": "code",
   "execution_count": null,
   "metadata": {},
   "outputs": [],
   "source": [
    "print(list_1[0])"
   ]
  },
  {
   "cell_type": "code",
   "execution_count": null,
   "metadata": {},
   "outputs": [],
   "source": [
    "print(list_1[:3])"
   ]
  },
  {
   "cell_type": "code",
   "execution_count": null,
   "metadata": {},
   "outputs": [],
   "source": [
    "print(list_2[1:3])"
   ]
  },
  {
   "attachments": {},
   "cell_type": "markdown",
   "metadata": {},
   "source": [
    "##### 리스트 정렬하기"
   ]
  },
  {
   "cell_type": "code",
   "execution_count": null,
   "metadata": {},
   "outputs": [],
   "source": [
    "list_1_1.sort()\n",
    "print(list_1_1)"
   ]
  },
  {
   "cell_type": "code",
   "execution_count": null,
   "metadata": {},
   "outputs": [],
   "source": [
    "list_2.reverse()\n",
    "print(list_2)"
   ]
  },
  {
   "attachments": {},
   "cell_type": "markdown",
   "metadata": {},
   "source": [
    "##### 리스트 요소 갯수 세기\n",
    "- 리스트의 전체 요소 수를 셀 때는 **len()** 함수를, 리스트 내에 있는 특정 요소의 수를 셀 때는 **.count()** 함수를 사용"
   ]
  },
  {
   "cell_type": "code",
   "execution_count": null,
   "metadata": {},
   "outputs": [],
   "source": [
    "print(len(list_1))"
   ]
  },
  {
   "cell_type": "code",
   "execution_count": null,
   "metadata": {},
   "outputs": [],
   "source": [
    "list_4 = [\"a\", \"b\", \"c\", \"a\", \"d\", \"e\", \"a\"]\n",
    "print(list_4.count('a'))"
   ]
  },
  {
   "attachments": {},
   "cell_type": "markdown",
   "metadata": {},
   "source": [
    "#### 5. 딕셔너리\n",
    "- 딕셔너리는 리스트와 같이 여러 개의 요소로 구성되지만 하나의 요소가 key와 value의 쌍이다.\n",
    "- 리스트와 달리 인덱스를 통해 접근할 수 없고 key 값을 통해 접근할 수 있다. key 값을 제시하면 해당 key의 value가 출력된다.\n",
    "- {} 괄호로 만든다. {key1:value1, key2:value2, key3:value3, ...key(N):value(N)}과 같이 구성된다."
   ]
  },
  {
   "attachments": {},
   "cell_type": "markdown",
   "metadata": {},
   "source": [
    "##### 딕셔너리 만들기"
   ]
  },
  {
   "cell_type": "code",
   "execution_count": null,
   "metadata": {},
   "outputs": [],
   "source": [
    "dict_1 = {'apple':10, 'banana':4, 'orange':7, 'pineapple': 2, 'watermelon':1}\n",
    "dict_2 = {'name':'James', 'age':34, 'nationality':'USA', 'social_code':12345}"
   ]
  },
  {
   "cell_type": "code",
   "execution_count": null,
   "metadata": {},
   "outputs": [],
   "source": [
    "print(dict_1)"
   ]
  },
  {
   "cell_type": "code",
   "execution_count": null,
   "metadata": {},
   "outputs": [],
   "source": [
    "print(dict_2)"
   ]
  },
  {
   "cell_type": "code",
   "execution_count": null,
   "metadata": {},
   "outputs": [],
   "source": [
    "print(len(dict_1))"
   ]
  },
  {
   "attachments": {},
   "cell_type": "markdown",
   "metadata": {},
   "source": [
    "##### 딕셔너리 내용 들여다보기: key 값을 이용하여 value를 확인"
   ]
  },
  {
   "cell_type": "code",
   "execution_count": null,
   "metadata": {},
   "outputs": [],
   "source": [
    "print(dict_1['apple'])"
   ]
  },
  {
   "cell_type": "code",
   "execution_count": null,
   "metadata": {},
   "outputs": [],
   "source": [
    "print(dict_2['nationality'])"
   ]
  },
  {
   "attachments": {},
   "cell_type": "markdown",
   "metadata": {},
   "source": [
    "##### 딕셔너리 요소 추가하기"
   ]
  },
  {
   "cell_type": "code",
   "execution_count": null,
   "metadata": {},
   "outputs": [],
   "source": [
    "dict_1['strawberry'] = 15\n",
    "dict_2['education'] = 'college'"
   ]
  },
  {
   "cell_type": "code",
   "execution_count": null,
   "metadata": {},
   "outputs": [],
   "source": [
    "print(dict_1)"
   ]
  },
  {
   "cell_type": "code",
   "execution_count": null,
   "metadata": {},
   "outputs": [],
   "source": [
    "print(dict_2)"
   ]
  },
  {
   "attachments": {},
   "cell_type": "markdown",
   "metadata": {},
   "source": [
    "##### key와 value를 따로 추출하여 리스트로 만들기"
   ]
  },
  {
   "cell_type": "code",
   "execution_count": null,
   "metadata": {},
   "outputs": [],
   "source": [
    "list_keys = list(dict_1.keys())\n",
    "print(list_keys)"
   ]
  },
  {
   "cell_type": "code",
   "execution_count": null,
   "metadata": {},
   "outputs": [],
   "source": [
    "list_values = list(dict_1.values())\n",
    "print(list_values)"
   ]
  }
 ],
 "metadata": {
  "kernelspec": {
   "display_name": "NLP",
   "language": "python",
   "name": "python3"
  },
  "language_info": {
   "codemirror_mode": {
    "name": "ipython",
    "version": 3
   },
   "file_extension": ".py",
   "mimetype": "text/x-python",
   "name": "python",
   "nbconvert_exporter": "python",
   "pygments_lexer": "ipython3",
   "version": "3.7.10 (default, Feb 26 2021, 18:47:35) \n[GCC 7.3.0]"
  },
  "orig_nbformat": 4,
  "vscode": {
   "interpreter": {
    "hash": "f2924a307e1aaa532cc473f8009b33dacafd8f63580212621cca8fcd8b3d0ec8"
   }
  }
 },
 "nbformat": 4,
 "nbformat_minor": 2
}
