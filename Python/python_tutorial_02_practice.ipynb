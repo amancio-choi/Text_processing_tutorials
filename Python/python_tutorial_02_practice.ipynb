{
 "cells": [
  {
   "attachments": {},
   "cell_type": "markdown",
   "metadata": {},
   "source": [
    "### Python으로 텍스트 바꾸기 (정규식)\n",
    "- 텍스트 파일을 읽은 후 필요한 정보만 추출한다.\n",
    "- 텍스트 파일을 읽은 후 텍스트 내용을 변환한다.\n",
    "- 텍스트 파일을 읽고 수정한 후 다른 이름으로 저장한다.\n",
    "\n",
    "- 대상 텍스트 파일: Moby Dick"
   ]
  },
  {
   "attachments": {},
   "cell_type": "markdown",
   "metadata": {},
   "source": [
    "#### 텍스트 파일 처리: 정규식(regular expressions)\n",
    "- 정규식: 문자열의 검색과 치환을 위한 형식 언어이다. 텍스트 파일을 처리할 때 가장 많이 수행하는 작업 중 하나가 정규식을 이용한 문자열 검색과 문자열 찾기/바꾸기이다.\n",
    "- 몇 개의 파일을 대상으로 고정된 형태의 문자열을 찾기/바꾸기하는 것은 워드프로세서로도 가능하지만 대량의 파일을 처리할 때는 워드프로세서로 처리하는 것이 쉽지 않다.\n",
    "- 고정된 문자열이 아닌 가변형의 문자열은 정규식을 이용해야 한다.\n",
    "- 정규식의 문법 체계와 활용 범위는 아주 방대하므로 여기서는 한글 말뭉치 텍스트를 다룰 때 가장 기본적인 것 몇 가지만 소개한다.\n",
    "- 보다 다양한 정규식 형태에 대한 설명은 https://www.regular-expressions.info/나 https://rstudio-pubs-static.s3.amazonaws.com/74603_76cd14d5983f47408fdf0b323550b846.html 등을 참고하면 된다."
   ]
  },
  {
   "attachments": {},
   "cell_type": "markdown",
   "metadata": {},
   "source": [
    "#### 정규식을 이용한 문자열의 검색과 치환\n",
    "- *re* 라이브러리를 사용한다.\n",
    "- 정규식을 이용한 문자열 찾기는 search(), findall()을, 문자열 치환은 sub() 함수를 사용한다.\n",
    "- search() 함수는 찾고자 하는 문자열 패턴의 위치와 해당 문자열을 반환한다.\n",
    "- findall() 함수는 찾고자 하는 문자열과 일치하는 모든 문자열을 반환한다.\n",
    "- sub() 함수는 찾는 문자열을 원하는 다른 문자열로 변환한다."
   ]
  },
  {
   "attachments": {},
   "cell_type": "markdown",
   "metadata": {},
   "source": [
    "#### 문자열 찾기: search, match, findall"
   ]
  },
  {
   "cell_type": "code",
   "execution_count": null,
   "metadata": {},
   "outputs": [],
   "source": [
    "ex = 'an example word:cat!!'\n",
    "match = re.search(pattern='word:...', string=ex)\n",
    "# match = re.search('word:[a-z]+', ex)\n",
    "\n",
    "if match:\n",
    "  print('found', match.group())\n",
    "else:\n",
    "  print('did not find')\n"
   ]
  },
  {
   "cell_type": "code",
   "execution_count": null,
   "metadata": {},
   "outputs": [],
   "source": [
    "ex = 'an example word:cat!!'\n",
    "match = re.search(pattern='word:[a-z]+', string=ex)\n",
    "\n",
    "if match:\n",
    "  print('found', match.group())\n",
    "else:\n",
    "  print('did not find')\n",
    "\n",
    "print(match)"
   ]
  },
  {
   "attachments": {},
   "cell_type": "markdown",
   "metadata": {},
   "source": [
    "- **search()**, **match()**, **findall()** 함수의 차이"
   ]
  },
  {
   "cell_type": "code",
   "execution_count": null,
   "metadata": {},
   "outputs": [],
   "source": [
    "print(re.match('a', 'aba'))\n",
    "print(re.match('a', 'bbb'))\n",
    "print(re.match('a', 'baa'))"
   ]
  },
  {
   "cell_type": "code",
   "execution_count": null,
   "metadata": {},
   "outputs": [],
   "source": [
    "print(re.search('a', 'aba'))\n",
    "print(re.search('a', 'bbb'))\n",
    "print(re.search('a', 'baa'))"
   ]
  },
  {
   "cell_type": "code",
   "execution_count": null,
   "metadata": {},
   "outputs": [],
   "source": [
    "print(re.findall('a', 'aba'))\n",
    "print(re.findall('a', 'bbb'))\n",
    "print(re.findall('a', 'baa'))\n",
    "print(re.findall('aaa', 'aaaa'))"
   ]
  },
  {
   "cell_type": "code",
   "execution_count": null,
   "metadata": {},
   "outputs": [],
   "source": [
    "import re\n",
    "\n",
    "sents = [\"Social worker: Great. Did you bring it with you?\",\n",
    "          \"사회복지사: 잘 하셨어요. 일기 가지고 오셨나요?\",\n",
    "          \"Joker: (dodging the subject) I'm sorry. Did I bring what?\",\n",
    "          \"조커: (못 들은 체하며) 죄송합니다. 뭐라고 하셨죠?\",\n",
    "          \"Joker: What time?\",\n",
    "          \"조커: 몇 신가요?\",\n",
    "          \"Social Worker: It's 2:45.\",\n",
    "          \"사회복지사: 2시 45분이예요.\",\n",
    "          \"Social Worker: 전화번호를 기입하셔야 해요.\",\n",
    "          \"사회복지사: 2시 45분이예요.\",\n",
    "          \"Joker: What time?\",\n",
    "          \"조커: 몇 신가요?\"]\n",
    "\n",
    "print(sents)"
   ]
  },
  {
   "attachments": {},
   "cell_type": "markdown",
   "metadata": {},
   "source": [
    "#### search() 함수를 이용하여 영어 문장과 한국어 문장을 찾아 출력하기"
   ]
  },
  {
   "cell_type": "code",
   "execution_count": null,
   "metadata": {},
   "outputs": [],
   "source": [
    "for sent in sents:\n",
    "    x = re.search('[a-zA-Z]+', sent)\n",
    "\n",
    "    if x:\n",
    "        print(\"'%s' is an English sentence.\" % sent)\n",
    "    else:\n",
    "        print(\"'%s' is a Korean sentence.\" % sent)"
   ]
  },
  {
   "attachments": {},
   "cell_type": "markdown",
   "metadata": {},
   "source": [
    "#### search() 함수를 이용하여 영어 문장과 한국어 문장의 위치 찾기"
   ]
  },
  {
   "cell_type": "code",
   "execution_count": null,
   "metadata": {},
   "outputs": [],
   "source": [
    "eng_index = []\n",
    "kor_index = []\n",
    "for i, sent in enumerate(sents):\n",
    "    x = re.search('[a-zA-Z]+', sent)\n",
    "    \n",
    "    if x:\n",
    "        eng_index.append(i)\n",
    "    else:\n",
    "        kor_index.append(i)\n",
    "\n",
    "print(eng_index); print(kor_index)"
   ]
  },
  {
   "attachments": {},
   "cell_type": "markdown",
   "metadata": {},
   "source": [
    "- 위 두 개 블록을 아래처럼 하나로 합할 수도 있다."
   ]
  },
  {
   "cell_type": "code",
   "execution_count": null,
   "metadata": {},
   "outputs": [],
   "source": [
    "eng_index = []\n",
    "kor_index = []\n",
    "for i, sent in enumerate(sents):\n",
    "    x = re.search('[a-zA-Z]+', sent)\n",
    "    \n",
    "    if x:\n",
    "        eng_index.append(i)\n",
    "    else:\n",
    "        kor_index.append(i)\n",
    "    \n",
    "    if x:\n",
    "        print(\"%s is an English sentence.\" % sent)\n",
    "    else:\n",
    "        print(\"%s is a Korean sentence.\" % sent)\n",
    "\n",
    "print(eng_index); print(kor_index)"
   ]
  },
  {
   "attachments": {},
   "cell_type": "markdown",
   "metadata": {},
   "source": [
    "- 위에서 만든 eng_index와 kor_index 값을 이용하여 sents에서 영어 문장과 한국어 문장을 분리할 수 있다."
   ]
  },
  {
   "cell_type": "code",
   "execution_count": null,
   "metadata": {},
   "outputs": [],
   "source": [
    "english_sents = []\n",
    "korean_sents = []\n",
    "\n",
    "for i in eng_index:\n",
    "    english_sents.append(sents[i])\n",
    "\n",
    "for j in kor_index:\n",
    "    korean_sents.append(sents[j])\n",
    "\n",
    "print(english_sents); print(korean_sents)"
   ]
  },
  {
   "cell_type": "code",
   "execution_count": null,
   "metadata": {},
   "outputs": [],
   "source": [
    "print([sents[i] for i in eng_index])\n",
    "print([sents[i] for i in kor_index])"
   ]
  },
  {
   "attachments": {},
   "cell_type": "markdown",
   "metadata": {},
   "source": [
    "#### findall() 함수를 이용하여 영어 단어와 한글 단어를 찾아서 출력하기 "
   ]
  },
  {
   "cell_type": "code",
   "execution_count": null,
   "metadata": {},
   "outputs": [],
   "source": [
    "y = re.findall('[a-zA-Z]+', sents[0])\n",
    "yy = re.findall('[가-힣]+', sents[1])\n",
    "print(y); print(yy)"
   ]
  },
  {
   "cell_type": "code",
   "execution_count": null,
   "metadata": {},
   "outputs": [],
   "source": [
    "english_words = []\n",
    "korean_words = []\n",
    "for sent in sents:\n",
    "    eng = re.findall('[a-zA-Z]+', sent)\n",
    "    kor = re.findall('[ㄱ-ㅎ가-힣]+', sent)\n",
    "    if eng and not kor:\n",
    "        english_words.append(eng)\n",
    "    else:\n",
    "        korean_words.append(kor)\n",
    "\n",
    "print(english_words); print(korean_words)"
   ]
  },
  {
   "cell_type": "code",
   "execution_count": null,
   "metadata": {},
   "outputs": [],
   "source": [
    "english_words_flat = [z for word in english_words for z in word]\n",
    "print(english_words_flat)"
   ]
  },
  {
   "attachments": {},
   "cell_type": "markdown",
   "metadata": {},
   "source": [
    "#### 문자열을 찾아 다른 문자열로 바꾸기: sub\n",
    "- 텍스트 파일을 처리할 때 가장 많이 사용하게 되는 정규식 관련 함수 중의 하나\n",
    "- 문자열을 찾아서 바꾸는(substitute) 기능을 가진 함수이므로, **search()**나 **findall()** 등의 찾기 함수와 달리 찾기 패턴 외에 바꾸기 패턴도 필요"
   ]
  },
  {
   "cell_type": "code",
   "execution_count": null,
   "metadata": {},
   "outputs": [],
   "source": [
    "print(re.sub(pattern='\\d{4}', repl='XXXX', string='010-1234-5678'))\n",
    "print(re.sub(pattern='\\d{3}', repl='XXX', string='010-1234-5678'))\n",
    "print(re.sub(pattern='-', repl=' ', string='010-1234-5678'))\n",
    "print(re.sub(pattern='Tube ', repl='', string='Tube Ryan'))"
   ]
  },
  {
   "attachments": {},
   "cell_type": "markdown",
   "metadata": {},
   "source": [
    "*sents*에서 등장인물 이름과 지문을 제거하고 대사만 남기기"
   ]
  },
  {
   "cell_type": "code",
   "execution_count": null,
   "metadata": {},
   "outputs": [],
   "source": [
    "sents_no_names_direct = []\n",
    "\n",
    "for sent in sents:\n",
    "    x = re.sub('^.*: ', '', sent)\n",
    "    x = re.sub('\\(.*\\) ', '', x)\n",
    "    if x:\n",
    "        sents_no_names_direct.append(x)\n",
    "\n",
    "print(sents_no_names_direct)"
   ]
  }
 ],
 "metadata": {
  "kernelspec": {
   "display_name": "tensorflow2",
   "language": "python",
   "name": "python3"
  },
  "language_info": {
   "codemirror_mode": {
    "name": "ipython",
    "version": 3
   },
   "file_extension": ".py",
   "mimetype": "text/x-python",
   "name": "python",
   "nbconvert_exporter": "python",
   "pygments_lexer": "ipython3",
   "version": "3.7.7 (default, Mar 26 2020, 15:48:22) \n[GCC 7.3.0]"
  },
  "orig_nbformat": 4,
  "vscode": {
   "interpreter": {
    "hash": "dfc0dc50c02b1a72f9c8c18b28cc5d6f7acf02306ca98ebb94c55727de830630"
   }
  }
 },
 "nbformat": 4,
 "nbformat_minor": 2
}
