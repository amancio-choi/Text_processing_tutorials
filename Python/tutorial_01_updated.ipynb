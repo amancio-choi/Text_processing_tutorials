{
 "cells": [
  {
   "attachments": {},
   "cell_type": "markdown",
   "metadata": {},
   "source": [
    "### Python으로 텍스트 파일 읽고 쓰기\n",
    "- 텍스트 파일을 하나 읽은 후 다른 이름으로 저장한다.\n",
    "- 텍스트 파일을 하나 읽고 수정한 후 다른 이름으로 저장한다.\n",
    "- 텍스트 파일 여러 개를 읽고 수정한 후 다른 이름으로 저장한다.\n",
    "\n",
    "- 대상 텍스트 파일: Moby Dick (by Melville) (https://www.gutenberg.org/files/2701/2701-0.txt)"
   ]
  },
  {
   "attachments": {},
   "cell_type": "markdown",
   "metadata": {},
   "source": [
    "#### 텍스트 파일 1개 읽기\n",
    "읽을 파일이 저장된 **위치(경로)**와 **파일 이름**을 먼저 확인한다."
   ]
  },
  {
   "cell_type": "code",
   "execution_count": 1,
   "metadata": {},
   "outputs": [],
   "source": [
    "filepath = 'data/moby_dick_melville.txt'\n",
    "\n",
    "f = open(filepath, mode='r')\n",
    "doc = f.readlines()\n",
    "f.close()"
   ]
  },
  {
   "attachments": {},
   "cell_type": "markdown",
   "metadata": {},
   "source": [
    "1. 1행: 읽을 파일의 경로를 지정하여 *filepath*라는 변수에 저장한다.\n",
    "1. 3행: **open()** 함수로 파일을 읽을 준비를 한다. 함수 이름은 open이지만 실제 파일을 읽지 않고 파일의 위치와 준비 모드('r': read)에 대한 정보를 *f*라는 객체에 저장한다.\n",
    "1. 4행: **readlines()** 함수로 텍스트 파일을 실제 읽어들여서 *doc*이라는 변수에 저장한다. **readlines**는 파일의 라인들을 모두 읽으라는 의미이다.\n",
    "1. 5행: 파일을 읽은 후에는 **close()** 함수로 열려있는 *f* 객체를 닫아준다. open과 close는 한 쌍을 이룬다."
   ]
  },
  {
   "attachments": {},
   "cell_type": "markdown",
   "metadata": {},
   "source": [
    "파일이 제대로 읽혔는지 **len()** 함수로 확인해 본다. len은 변수에 저장된 목록의 갯수를 세는 함수이다."
   ]
  },
  {
   "cell_type": "code",
   "execution_count": 11,
   "metadata": {},
   "outputs": [
    {
     "data": {
      "text/plain": [
       "22316"
      ]
     },
     "execution_count": 11,
     "metadata": {},
     "output_type": "execute_result"
    }
   ],
   "source": [
    "len(doc)"
   ]
  },
  {
   "attachments": {},
   "cell_type": "markdown",
   "metadata": {},
   "source": [
    "1. 파일을 제대로 읽었는지 확인하는 방법 중의 하나로 len() 함수를 사용하여 총 몇 행인지를 확인해 본다. 이 때 len() 함수는 파일의 총 라인 수(즉 엔터가 들어간 수)를 계산한다. 총 22,316행임을 알 수 있다. 확인해 보려면 에디터로 같은 파일을 열어서 마지막 행의 라인 수를 확인한다."
   ]
  },
  {
   "attachments": {},
   "cell_type": "markdown",
   "metadata": {},
   "source": [
    "#### 읽은 파일의 내용 들여다보기\n",
    "- 텍스트 파일을 읽은 후 파일의 내용을 살펴보려면 **print(변수)** 함수를 사용할 수 있다. 그러나 읽은 텍스트가 총 2만 라인 이상이므로 출력 범위를 넘어선다. 이 때는 파일의 일부분(첫 부분 혹은 끝부분)만 출력할 수 있다. __변수[시작점:끝점]__과 같이 인덱스를 사용하여 슬라이싱(slicing)을 한다(슬라이싱: 저장된 문서의 일부분만 잘라낸다는 의미)."
   ]
  },
  {
   "cell_type": "code",
   "execution_count": 98,
   "metadata": {},
   "outputs": [
    {
     "data": {
      "text/plain": [
       "['\\ufeffThe Project Gutenberg eBook of Moby-Dick; or The Whale, by Herman Melville\\n',\n",
       " '\\n',\n",
       " 'This eBook is for the use of anyone anywhere in the United States and\\n',\n",
       " 'most other parts of the world at no cost and with almost no restrictions\\n',\n",
       " 'whatsoever. You may copy it, give it away or re-use it under the terms\\n',\n",
       " 'of the Project Gutenberg License included with this eBook or online at\\n',\n",
       " 'www.gutenberg.org. If you are not located in the United States, you\\n',\n",
       " 'will have to check the laws of the country where you are located before\\n',\n",
       " 'using this eBook.\\n',\n",
       " '\\n']"
      ]
     },
     "execution_count": 98,
     "metadata": {},
     "output_type": "execute_result"
    }
   ],
   "source": [
    "doc[:10]"
   ]
  },
  {
   "attachments": {},
   "cell_type": "markdown",
   "metadata": {},
   "source": [
    "- [:10]는 doc의 첫 번째 라인부터 9번째 라인까지 총 10개의 라인을 출력하라는 의미이다. **doc[0:10]**과 같이 표현할 수도 있다. 파이썬의 인덱스는 0에서 시작한다.\n",
    "즉 0, 1, 2, 3, 4, 5, 6, 7, 8, 9까지 10개 라인을 출력한다.\n",
    "- print()와 같이 사용해도 되고 그냥 doc[:10]만 사용해도 된다."
   ]
  },
  {
   "cell_type": "code",
   "execution_count": null,
   "metadata": {},
   "outputs": [],
   "source": [
    "doc[1000:1010]"
   ]
  },
  {
   "attachments": {},
   "cell_type": "markdown",
   "metadata": {},
   "source": [
    "[1000:1010]는 doc의 1000번째 라인부터 1009번째 라인까지 읽으라는 의미이다. 즉, 1000, 1001, 1002, 1003, 1004, 1005, 1006, 1007, 1008, 1009번째 라인까지 총 10개 라인을 출력한다."
   ]
  },
  {
   "cell_type": "code",
   "execution_count": null,
   "metadata": {},
   "outputs": [],
   "source": [
    "doc[500]"
   ]
  },
  {
   "cell_type": "code",
   "execution_count": null,
   "metadata": {},
   "outputs": [],
   "source": [
    "[500]은 499번째 라인을 출력하라는 의미이다."
   ]
  },
  {
   "attachments": {},
   "cell_type": "markdown",
   "metadata": {},
   "source": [
    "#### 다른 방법으로 텍스트 파일을 읽기"
   ]
  },
  {
   "cell_type": "code",
   "execution_count": 2,
   "metadata": {},
   "outputs": [],
   "source": [
    "filepath = 'data/moby_dick_melville.txt'\n",
    "\n",
    "with open(filepath, mode='r') as f:\n",
    "    doc = f.readlines()"
   ]
  },
  {
   "attachments": {},
   "cell_type": "markdown",
   "metadata": {},
   "source": [
    "1. 1행: 읽을 파일의 경로를 지정하여 *filepath*라는 변수에 저장한다.\n",
    "1. 3행: **with**와 함께 **open()** 함수를 이용하여 파일을 읽을 준비를 하고 이 정보를 f라는 객체에 저장한다. **with**로 시작한 구문은 끝에 :를 추가하여 구문이 완료되지 않았음을 표시한다.\n",
    "1. 4행: **readlines()** 함수로 파일을 실제로 읽어 파일 내용을 변수 doc에 저장한다. **with...** 구문을 사용할 경우에는 **close()**로 *f* 객체를 닫지 않아도 된다. 자동으로 닫힌다."
   ]
  },
  {
   "cell_type": "code",
   "execution_count": 47,
   "metadata": {},
   "outputs": [
    {
     "data": {
      "text/plain": [
       "22316"
      ]
     },
     "execution_count": 47,
     "metadata": {},
     "output_type": "execute_result"
    }
   ],
   "source": [
    "len(doc)"
   ]
  },
  {
   "attachments": {},
   "cell_type": "markdown",
   "metadata": {},
   "source": [
    "파일을 잘 읽었는지 len() 함수로 확인해 본다. 위와 동일한 정보가 저장되었음을 알 수 있다."
   ]
  },
  {
   "cell_type": "code",
   "execution_count": 3,
   "metadata": {},
   "outputs": [
    {
     "data": {
      "text/plain": [
       "['\\ufeffThe Project Gutenberg eBook of Moby-Dick; or The Whale, by Herman Melville\\n',\n",
       " '\\n',\n",
       " 'This eBook is for the use of anyone anywhere in the United States and\\n',\n",
       " 'most other parts of the world at no cost and with almost no restrictions\\n',\n",
       " 'whatsoever. You may copy it, give it away or re-use it under the terms\\n',\n",
       " 'of the Project Gutenberg License included with this eBook or online at\\n',\n",
       " 'www.gutenberg.org. If you are not located in the United States, you\\n',\n",
       " 'will have to check the laws of the country where you are located before\\n',\n",
       " 'using this eBook.\\n',\n",
       " '\\n']"
      ]
     },
     "execution_count": 3,
     "metadata": {},
     "output_type": "execute_result"
    }
   ],
   "source": [
    "doc[:10]"
   ]
  },
  {
   "attachments": {},
   "cell_type": "markdown",
   "metadata": {},
   "source": [
    "읽은 doc 파일을 10번째 행까지 출력한다."
   ]
  },
  {
   "attachments": {},
   "cell_type": "markdown",
   "metadata": {},
   "source": [
    "##### 파일의 처음 10개 라인만 출력하고 싶을 때는 것은 아래와 같이 **for...** 구문을 이용하여 구현할 수 있다."
   ]
  },
  {
   "cell_type": "code",
   "execution_count": 6,
   "metadata": {},
   "outputs": [
    {
     "name": "stdout",
     "output_type": "stream",
     "text": [
      "The Project Gutenberg eBook of Moby-Dick; or The Whale, by Herman Melville\n",
      "\n",
      "\n",
      "\n",
      "This eBook is for the use of anyone anywhere in the United States and\n",
      "\n",
      "most other parts of the world at no cost and with almost no restrictions\n",
      "\n",
      "whatsoever. You may copy it, give it away or re-use it under the terms\n",
      "\n",
      "of the Project Gutenberg License included with this eBook or online at\n",
      "\n",
      "www.gutenberg.org. If you are not located in the United States, you\n",
      "\n",
      "will have to check the laws of the country where you are located before\n",
      "\n",
      "using this eBook.\n",
      "\n",
      "\n",
      "\n"
     ]
    }
   ],
   "source": [
    "with open(filepath, 'r') as f:\n",
    "    doc = f.readlines()\n",
    "    for line in doc[:10]:\n",
    "        print(line)"
   ]
  },
  {
   "attachments": {},
   "cell_type": "markdown",
   "metadata": {},
   "source": [
    "1. 1-2행: 위에서 설명한 대로 **open()**과 **readlines()** 함수로 파일 전체를 읽어들여 *doc*에 저장한다.\n",
    "1. 3행: *doc* 문서의 10행까지 슬라이싱(slicing)한 후 각 행을 *line* 변수로 지정하고(**in**) 각 행에 대해(**for**)\n",
    "1. 4행: 각 행(*line*)을 **print()** 함수로 차례대로 출력한다."
   ]
  },
  {
   "attachments": {},
   "cell_type": "markdown",
   "metadata": {},
   "source": [
    "#### 읽은 텍스트에서 불필요한 기호나 공백을 제거하기\n",
    "- 여기서는 각 라인 끝의 \\n 기호(엔터 즉 라인의 끝을 표시)와 첫 번째 라인의 \\ufeff 문자(특수문자)를 제거한다."
   ]
  },
  {
   "cell_type": "code",
   "execution_count": 1,
   "metadata": {},
   "outputs": [
    {
     "name": "stdout",
     "output_type": "stream",
     "text": [
      "['\\ufeffThe Project Gutenberg eBook of Moby-Dick; or The Whale, by Herman Melville\\n', '\\n', 'This eBook is for the use of anyone anywhere in the United States and\\n', 'most other parts of the world at no cost and with almost no restrictions\\n', 'whatsoever. You may copy it, give it away or re-use it under the terms\\n', 'of the Project Gutenberg License included with this eBook or online at\\n', 'www.gutenberg.org. If you are not located in the United States, you\\n', 'will have to check the laws of the country where you are located before\\n', 'using this eBook.\\n', '\\n']\n"
     ]
    }
   ],
   "source": [
    "filepath = 'data/moby_dick_melville.txt'\n",
    "\n",
    "with open(filepath, mode='r') as f:\n",
    "    doc = f.readlines()\n",
    "\n",
    "print(doc[:10])"
   ]
  },
  {
   "cell_type": "code",
   "execution_count": 101,
   "metadata": {},
   "outputs": [
    {
     "data": {
      "text/plain": [
       "['The Project Gutenberg eBook of Moby-Dick; or The Whale, by Herman Melville',\n",
       " '',\n",
       " 'This eBook is for the use of anyone anywhere in the United States and',\n",
       " 'most other parts of the world at no cost and with almost no restrictions',\n",
       " 'whatsoever. You may copy it, give it away or re-use it under the terms',\n",
       " 'of the Project Gutenberg License included with this eBook or online at',\n",
       " 'www.gutenberg.org. If you are not located in the United States, you',\n",
       " 'will have to check the laws of the country where you are located before',\n",
       " 'using this eBook.',\n",
       " '']"
      ]
     },
     "execution_count": 101,
     "metadata": {},
     "output_type": "execute_result"
    }
   ],
   "source": [
    "filepath = 'data/moby_dick_melville.txt'\n",
    "\n",
    "with open(filepath, mode='r') as f:\n",
    "    new_lines = []\n",
    "    for line in f:\n",
    "        new_line = line.strip()\n",
    "        new_line = new_line.replace('\\ufeff', '')\n",
    "        new_lines.append(new_line)\n",
    "\n",
    "new_lines[:10]"
   ]
  },
  {
   "attachments": {},
   "cell_type": "markdown",
   "metadata": {},
   "source": [
    "1. 1행: 읽을 파일의 위치를 지정한다.\n",
    "1. 3행: **with open()**으로 파일을 열고 *f*에 파일의 정보를 저장한다.\n",
    "1. 4행: 불필요한 기호들을 삭제한 새로운 라인들을 저장할 공간을 리스트 []로 만들어 *new_lines* 변수에 할당한다.\n",
    "1. 5행: *f*에 저장된 파일의 내용에서(**in**) 한 줄씩 꺼내 *line*에 할당하고 이 *line*에 대해서(**for**) 6-7행의 작업을 수행한다. 이 작업은 *f*에 저장된 파일의 전체 라인이 끝날 때까지 반복적으로 수행된다.\n",
    "1. 6행: 순차적으로 꺼내온 *line*에서 불필요한 공백(\\n도 일종의 공백으로 봄)을 떼어낸 후(**strip()**), *new_line* 변수에 저장한다.\n",
    "1. 7행: *new_line*에서 \\ufeff 문자를 삭제한다. 문자열(string)에서 찾기-바꾸기를 할 때는 **replace()** 함수를 사용할 수 있다. 찾기 대상은 '\\ufeff' 문자이고 이 문자를 '' 즉 \"아무 것도 없음\"으로 바꾼다. 이것을 *new_line* 변수에 다시 저장한다.\n",
    "1. 8행: 불필요한 기호들을 삭제한 *new_line*을 4행에서 만들어 놓은 리스트 *new_lines*에 하나씩 추가한다. 리스트에 새로운 요소들을 하나씩 추가할 때에는 **append()** 함수를 사용한다.\n",
    "1. 10행: 수정된 새 라인들을 9번째 라인까지 출력하여 확인한다."
   ]
  },
  {
   "attachments": {},
   "cell_type": "markdown",
   "metadata": {},
   "source": [
    "#### read() *vs.* readline() *vs.* readlines() 함수 차이\n",
    "- **read()**: 텍스트 파일 전체를 하나로 읽어 하나의 문자열(string)으로 저장한다.. 이 때 각 라인 끝에는 '\\n'이 추가되어 라인 구분자 역할을 한다.\n",
    "- **readline()**: 텍스트 파일을 한 줄만 읽어 문자열로 저장한다.\n",
    "- **readlines()**: 텍스트 파일의 전체 라인을 읽어 문자열로 이루어진 리스트(list)로 저장한다. "
   ]
  },
  {
   "cell_type": "code",
   "execution_count": 2,
   "metadata": {},
   "outputs": [
    {
     "name": "stdout",
     "output_type": "stream",
     "text": [
      "1238355\n",
      "﻿The Project Gutenberg eBook of Moby-Dick; or The Whale, by Herman Melville\n",
      "\n",
      "This eBook is for the use of anyone anywhere in the United States and\n",
      "most other parts of the world at no cost and with almost no restrictions\n",
      "whatsoever. You may copy it, give it away or re-use it under the terms\n",
      "of the Project Gutenberg License included with this eBook or online at\n",
      "www.gutenberg.org. If you are not located in the United States, you\n",
      "will have to check the laws of the country where you are located befor\n"
     ]
    }
   ],
   "source": [
    "filepath = 'data/moby_dick_melville.txt'\n",
    "\n",
    "with open(filepath, mode='r') as f:\n",
    "    doc_from_read = f.read()\n",
    "\n",
    "print(len(doc_from_read))\n",
    "print(doc_from_read[:500])"
   ]
  },
  {
   "attachments": {},
   "cell_type": "markdown",
   "metadata": {},
   "source": [
    "1. 4행: **read()** 함수로 파일 전체를 하나의 덩어리로 읽어들인 후 *doc_from_read* 변수에 저장한다.\n",
    "1. 6행: *doc_from_read* 변수의 길이, 즉 읽은 텍스트의 전체 문자 수를 출력한다.\n",
    "1. 7행: *doc_from_read* 변수의 499번째 문자까지만 출력한다."
   ]
  },
  {
   "cell_type": "code",
   "execution_count": 3,
   "metadata": {},
   "outputs": [
    {
     "name": "stdout",
     "output_type": "stream",
     "text": [
      "76\n",
      "﻿The Project Gutenberg eBook of Moby-Dick; or The Whale, by Herman Melville\n",
      "\n"
     ]
    }
   ],
   "source": [
    "filepath = 'data/moby_dick_melville.txt'\n",
    "\n",
    "with open(filepath, mode='r') as f:\n",
    "    doc_from_readline = f.readline()\n",
    "\n",
    "print(len(doc_from_readline))\n",
    "print(doc_from_readline)"
   ]
  },
  {
   "attachments": {},
   "cell_type": "markdown",
   "metadata": {},
   "source": [
    "1. 4행: **readline()** 함수로 파일의 한 행, 즉 첫 번째 라인만 읽은 후 *doc_from_readline* 변수에 저장한다.\n",
    "1. 6행: *doc_from_readline* 변수에 저장한 라인의 문자 수를 출력한다.\n",
    "1. 7행: *doc_from_readline* 변수에 저장된 라인을 전체 출력한다."
   ]
  },
  {
   "cell_type": "code",
   "execution_count": 4,
   "metadata": {},
   "outputs": [
    {
     "name": "stdout",
     "output_type": "stream",
     "text": [
      "22316\n",
      "['\\ufeffThe Project Gutenberg eBook of Moby-Dick; or The Whale, by Herman Melville\\n', '\\n', 'This eBook is for the use of anyone anywhere in the United States and\\n', 'most other parts of the world at no cost and with almost no restrictions\\n', 'whatsoever. You may copy it, give it away or re-use it under the terms\\n', 'of the Project Gutenberg License included with this eBook or online at\\n', 'www.gutenberg.org. If you are not located in the United States, you\\n', 'will have to check the laws of the country where you are located before\\n', 'using this eBook.\\n', '\\n']\n"
     ]
    }
   ],
   "source": [
    "filepath = 'data/moby_dick_melville.txt'\n",
    "\n",
    "with open(filepath, mode='r') as f:\n",
    "    doc_from_readlines = f.readlines()\n",
    "\n",
    "print(len(doc_from_readlines))\n",
    "print(doc_from_readlines[:10])"
   ]
  },
  {
   "attachments": {},
   "cell_type": "markdown",
   "metadata": {},
   "source": [
    "1. 4행: **readlines()** 함수로 파일의 전체 행을 읽은 후 *doc_from_readlines* 변수에 저장한다.\n",
    "1. 6행: *doc_from_readlines* 변수에 저장된 라인의 수를 출력한다.\n",
    "1. 7행: *doc_from_readlines* 변수에 저장된 전체 라인 중 9번째 라인(즉 총 10행)까지 출력한다."
   ]
  },
  {
   "attachments": {},
   "cell_type": "markdown",
   "metadata": {},
   "source": [
    "따라서 파일을 라인 구분 필요없이 통으로 읽을 때에는 **read()** 함수를, 라인별로 읽을 필요가 있을 때에는 **readlines()** 함수를 이용한다. "
   ]
  },
  {
   "attachments": {},
   "cell_type": "markdown",
   "metadata": {},
   "source": [
    "#### 읽은 파일을 파일 이름을 바꾸어 그대로 저장하기"
   ]
  },
  {
   "cell_type": "code",
   "execution_count": 3,
   "metadata": {},
   "outputs": [],
   "source": [
    "filepath = 'data/moby_dick_melville.txt'\n",
    "\n",
    "with open(filepath, mode='r') as f:\n",
    "    doc = f.readlines()\n",
    "\n",
    "filepath_1 = 'data/moby_dick_melville_duplicate.txt'\n",
    "\n",
    "f = open(filepath_1, mode='w')\n",
    "f.writelines(doc)\n",
    "f.close()"
   ]
  },
  {
   "attachments": {},
   "cell_type": "markdown",
   "metadata": {},
   "source": [
    "1. 1-4행: 파일을 읽어 *doc* 변수에 저장한다.\n",
    "1. 6행: 저장할 파일의 이름을 지정하여 filepath_1 변수에 저장한다.\n",
    "1. 8행: **open()** 함수로 저장할 위치와 쓰기 모드('w' = write)를 설정한 후 f 변수에 할당한다.\n",
    "1. 9행: writelines() 함수로 *doc*의 내용을 실제 파일에 쓴다.\n",
    "1. 10행: close() 함수로 열려있는 *f* 객체를 닫아준다. "
   ]
  },
  {
   "attachments": {},
   "cell_type": "markdown",
   "metadata": {},
   "source": [
    "다음과 같이 실행할 수도 있다. 파일을 읽을 때와 같으며 open() 함수의 작업 모드만 'r'에서 'w'로 바꾸어주면 된다."
   ]
  },
  {
   "cell_type": "code",
   "execution_count": 4,
   "metadata": {},
   "outputs": [],
   "source": [
    "filepath_1 = 'data/moby_dick_melville_1.txt'\n",
    "\n",
    "with open(filepath_1, 'w') as f:\n",
    "    f.writelines(doc)"
   ]
  },
  {
   "attachments": {},
   "cell_type": "markdown",
   "metadata": {},
   "source": [
    "#### 텍스트에서 본문(Chapter 1부터 Epilogue까지)만 새로운 텍스트 파일로 저장하기\n",
    "- 파일을 에디터로 열어서 확인해 보면 본문의 Chapter 1(Loomings)의 시작점이 845번째 라인이고 끝점이 21960번째 라인임을 알 수 있다. \n",
    "- 845번째 라인부터 21960번째 라인까지 슬라이싱하는 방법은 doc[844:21959]와 같다. python에서 인덱스의 시작점은 0이다. 따라서 845번째 라인은 doc[844]이고 21960번째 라인은 doc[21959]이다. "
   ]
  },
  {
   "cell_type": "code",
   "execution_count": 9,
   "metadata": {},
   "outputs": [],
   "source": [
    "filepath = 'data/moby_dick_melville.txt'\n",
    "\n",
    "with open(filepath, mode='r') as f:\n",
    "    doc = f.readlines()\n",
    "\n",
    "doc_reduced = doc[844:21959]\n",
    "\n",
    "filepath_2 = 'data/moby_dick_melville_only_body.txt'\n",
    "\n",
    "with open(filepath_2, 'w') as f:\n",
    "    f.writelines(doc_reduced)"
   ]
  },
  {
   "attachments": {},
   "cell_type": "markdown",
   "metadata": {},
   "source": [
    "1. 1-4행: 파일을 읽어 *doc*에 저장한다.\n",
    "1. 6행: *doc* 문서 중 845번째 라인부터 마지막 라인까지만(즉 본문 부분만) 잘라서 *doc_reduced* 변수에 저장한다.\n",
    "1. 8행: 새로 저장할 위치와 파일 이름을 지정한다.\n",
    "1. 10-11행: **writelines()** 함수로 *doc_reduced* 변수를 새 파일에 저장한다."
   ]
  },
  {
   "attachments": {},
   "cell_type": "markdown",
   "metadata": {},
   "source": [
    "#### 파일을 두 개 이상 읽는 방법\n",
    "- 파일들이 위치한 디렉토리(폴더)를 지정하고\n",
    "- 그 디렉토리에 있는 파일들의 목록을 읽은 후\n",
    "- 목록에 있는 파일들을 **read()**나 **readlines()**로 읽어서 변수에 저장한다."
   ]
  },
  {
   "cell_type": "code",
   "execution_count": 1,
   "metadata": {},
   "outputs": [
    {
     "name": "stdout",
     "output_type": "stream",
     "text": [
      "['moby_dick_melville.txt', 'lord_jim_conrad.txt', 'heart_of_darkness_conrad.txt']\n"
     ]
    }
   ],
   "source": [
    "import os\n",
    "\n",
    "target_dir = 'data'\n",
    "target_files = os.listdir(target_dir)\n",
    "\n",
    "print(target_files)"
   ]
  },
  {
   "attachments": {},
   "cell_type": "markdown",
   "metadata": {},
   "source": [
    "1. 1행: **os**(operating system) 모듈을 탑재한다. **os** 모듈은 디렉토리 검색, 디렉토리 만들기/삭제하기 등과 같은 운영 체제와 관련된 기능을 제공한다.\n",
    "1. 3행: 읽을 파일들이 있는 디렉토리를 지정하여 *target_dir* 변수에 저장한다. 즉 이 디렉토리 내의 파일을 읽게 된다.\n",
    "1. 4행: **listdir()** 함수로 이 디렉토리 내의 파일 목록을 읽는다.\n",
    "2. 6행: 읽어온 파일 목록을 출력한다."
   ]
  },
  {
   "cell_type": "code",
   "execution_count": 95,
   "metadata": {},
   "outputs": [
    {
     "data": {
      "text/plain": [
       "6"
      ]
     },
     "execution_count": 95,
     "metadata": {},
     "output_type": "execute_result"
    }
   ],
   "source": [
    "all_docs = []\n",
    "for file in target_files:\n",
    "    with open(os.path.join(target_dir, file), 'r') as f:\n",
    "        doc = f.read()\n",
    "        all_docs.append(doc)\n",
    "\n",
    "len(all_docs)"
   ]
  },
  {
   "attachments": {},
   "cell_type": "markdown",
   "metadata": {},
   "source": [
    "1. 1행: 읽어온 파일들을 저장할 변수를 미리 설정한다. [] 내에 하나씩 읽어온 텍스트가 차례로 저장된다. [] 기호는 리스트(list)를 만들라는 의미이다.\n",
    "1. 2행: for... 구문으로 읽어올 대상 파일들을 하나씩 호출한다. 즉 target_files에 저장된 파일 이름을 하나씩 불러와서 file 변수에 저장한다.\n",
    "1. 3-4행: with 구문 블록으로 파일을 하나씩 읽어 변수 doc에 저장한다. 파일을 읽을 때 파일 이름 외에 경로 정보가 필요하므로 target_dir의 경로 정보와 file에 저장된 파일 이름을 os.path.join() 함수로 결합한다. 결합한 결과는 'data/moby_dick_melville_1.txt' 등과 같은 형태이다.\n",
    "1. 5행: doc 변수에 저장된 내용을 1행에서 만든 all_docs 리스트에 doc을 저장한다. 리스트에 새로운 내용을 추가할 때는 append() 함수를 사용한다.\n",
    "1. 7행: len() 함수로 all_docs 내에 저장된 텍스트의 수를 확인하여 제대로 다 읽어왔는지 확인한다. "
   ]
  },
  {
   "attachments": {},
   "cell_type": "markdown",
   "metadata": {},
   "source": [
    "#### 텍스트에서 챕터 제목 라인만 출력하기\n",
    "- 챕터 제목의 형식을 먼저 확인하고 이 형식에 맞게 챕터 제목을 만든다.\n",
    "- 이 챕터 제목을 읽은 문서에서 찾는다."
   ]
  },
  {
   "cell_type": "code",
   "execution_count": null,
   "metadata": {},
   "outputs": [],
   "source": [
    "filepath = 'data/moby_dick_melville.txt'\n",
    "\n",
    "with open(filepath, mode='r') as f:\n",
    "    doc = f.readlines()\n",
    "\n",
    "doc = doc[844:21959]\n",
    "\n",
    "chapter_name = 'CHAPTER'\n",
    "\n",
    "chapter_titles = []\n",
    "for line in doc:\n",
    "    if chapter_name in line:\n",
    "        chapter_titles.append(line)\n",
    "\n",
    "print(chapter_titles)"
   ]
  },
  {
   "attachments": {},
   "cell_type": "markdown",
   "metadata": {},
   "source": [
    "1. 1-4행: Moby Dick 파일을 읽어 doc에 저장한다.\n",
    "1. 6행: doc 문서에서 본문만(844행에서 21959행) doc 변수에 다시 저장한다.\n",
    "1. 8행: 챕터 제목 형식을 찾아 *chapter_name* 변수에 저장한다. 읽은 파일에서 챕터의 제목은 대문자 CHAPTER로 시작하는 라인들이다.\n",
    "1. 10행: 찾은 챕터 제목을 저장할 빈 리스트 []를 변수 *chapter_titles*에 할당한다.\n",
    "1. 11행: *doc* 문서의(**in**) 각 라인 *line*에 대해(**for**)\n",
    "1. 12행: 만약(**if**) 이 라인에 chapter_name, 즉 'CHAPTER'라는 문자열이 포함되어(**in**) 있으면\n",
    "1. 13행: 이 라인을 3행에서 만든 리스트 chapter_titles에 하나씩 추가한다(**append()**).\n",
    "1. 15행: *chapter_titles* 변수를 출력한다."
   ]
  },
  {
   "attachments": {},
   "cell_type": "markdown",
   "metadata": {},
   "source": [
    "#### 챕터 제목과 챕터 제목이 들어간 라인 번호를 같이 저장하기"
   ]
  },
  {
   "cell_type": "code",
   "execution_count": null,
   "metadata": {},
   "outputs": [],
   "source": [
    "chapter_name = 'CHAPTER'\n",
    "\n",
    "chapter_line_num = 0\n",
    "chapter_titles = []\n",
    "for line in doc:\n",
    "    chapter_line_num += 1\n",
    "\n",
    "    if chapter_name in line:        \n",
    "        chapter_titles.append((chapter_line_num, line.strip()))\n",
    "\n",
    "print(chapter_titles)"
   ]
  },
  {
   "attachments": {},
   "cell_type": "markdown",
   "metadata": {},
   "source": [
    "1. 1행: 챕터 제목 형식을 찾아 *chapter_name* 변수에 저장한다. 읽은 파일에서 챕터의 제목은 대문자 CHAPTER로 시작하는 라인들이다.\n",
    "1. 3행: 챕터 라인 번호를 0으로 지정해 놓는다. 라인을 1부터 차례대로 읽으면서(즉 +=1: 1씩 더해가면서) 챕터 제목이 있는 라인에 도달했을 때 그 라인 번호를 chapter_line_num에 저장하고, 쳅터 제목이 없을 때에는 그냥 넘어간다.\n",
    "1. 4행: 찾은 챕터 제목을 저장할 빈 리스트 []를 변수 *chapter_titles*에 할당한다.\n",
    "1. 5행: *doc* 문서의(**in**) 각 라인 *line*에 대해(**for**)\n",
    "1. 6행: 라인을 1부터 차례대로 읽으면서(즉 +=1: 1씩 더해가면서)\n",
    "1. 8행: 만약(**if**) 이 라인에 chapter_name, 즉 'CHAPTER'라는 문자열이 포함되어(**in**) 있으면\n",
    "1. 9행: 해당 라인의 번호와 *line*을 튜플(tuple)로 만든 후에 *chapter_titles*에 차례대로 저장한다. 이 때 *line*에서 앞뒤 불필요한 공백 등을 제거하기 위해 *strip()* 함수를 사용한다.\n",
    "1. 11행: *chapter_titles*룰 출력한다."
   ]
  },
  {
   "attachments": {},
   "cell_type": "markdown",
   "metadata": {},
   "source": [
    "#### 같은 정보를 정규식(regular expressions)을 이용하여 추출할 수도 있다. 정규식에 대한 자세한 내용은 tutorial_02에서 다룬다."
   ]
  },
  {
   "cell_type": "code",
   "execution_count": 28,
   "metadata": {},
   "outputs": [],
   "source": [
    "import re\n",
    "\n",
    "chapter_name = '^CHAPTER \\d+'\n",
    "\n",
    "chapter_titles = []\n",
    "for line in doc:\n",
    "    matched = re.search(chapter_name, line)\n",
    "    if matched is None:\n",
    "        next\n",
    "    else:\n",
    "        match_str = matched.string.strip()\n",
    "        chapter_titles.append(match_str)"
   ]
  },
  {
   "cell_type": "code",
   "execution_count": 29,
   "metadata": {},
   "outputs": [
    {
     "name": "stdout",
     "output_type": "stream",
     "text": [
      "['CHAPTER 1. Loomings.', 'CHAPTER 2. The Carpet-Bag.', 'CHAPTER 3. The Spouter-Inn.', 'CHAPTER 4. The Counterpane.', 'CHAPTER 5. Breakfast.', 'CHAPTER 6. The Street.', 'CHAPTER 7. The Chapel.', 'CHAPTER 8. The Pulpit.', 'CHAPTER 9. The Sermon.', 'CHAPTER 10. A Bosom Friend.', 'CHAPTER 11. Nightgown.', 'CHAPTER 12. Biographical.', 'CHAPTER 13. Wheelbarrow.', 'CHAPTER 14. Nantucket.', 'CHAPTER 15. Chowder.', 'CHAPTER 16. The Ship.', 'CHAPTER 17. The Ramadan.', 'CHAPTER 18. His Mark.', 'CHAPTER 19. The Prophet.', 'CHAPTER 20. All Astir.', 'CHAPTER 21. Going Aboard.', 'CHAPTER 22. Merry Christmas.', 'CHAPTER 23. The Lee Shore.', 'CHAPTER 24. The Advocate.', 'CHAPTER 25. Postscript.', 'CHAPTER 26. Knights and Squires.', 'CHAPTER 27. Knights and Squires.', 'CHAPTER 28. Ahab.', 'CHAPTER 29. Enter Ahab; to Him, Stubb.', 'CHAPTER 30. The Pipe.', 'CHAPTER 31. Queen Mab.', 'CHAPTER 32. Cetology.', 'CHAPTER 33. The Specksnyder.', 'CHAPTER 34. The Cabin-Table.', 'CHAPTER 35. The Mast-Head.', 'CHAPTER 36. The Quarter-Deck.', 'CHAPTER 37. Sunset.', 'CHAPTER 38. Dusk.', 'CHAPTER 39. First Night-Watch.', 'CHAPTER 40. Midnight, Forecastle.', 'CHAPTER 41. Moby Dick.', 'CHAPTER 42. The Whiteness of the Whale.', 'CHAPTER 43. Hark!', 'CHAPTER 44. The Chart.', 'CHAPTER 45. The Affidavit.', 'CHAPTER 46. Surmises.', 'CHAPTER 47. The Mat-Maker.', 'CHAPTER 48. The First Lowering.', 'CHAPTER 49. The Hyena.', 'CHAPTER 50. Ahab’s Boat and Crew. Fedallah.', 'CHAPTER 51. The Spirit-Spout.', 'CHAPTER 52. The Albatross.', 'CHAPTER 53. The Gam.', 'CHAPTER 54. The Town-Ho’s Story.', 'CHAPTER 55. Of the Monstrous Pictures of Whales.', 'CHAPTER 56. Of the Less Erroneous Pictures of Whales, and the True', 'CHAPTER 57. Of Whales in Paint; in Teeth; in Wood; in Sheet-Iron; in', 'CHAPTER 58. Brit.', 'CHAPTER 59. Squid.', 'CHAPTER 60. The Line.', 'CHAPTER 61. Stubb Kills a Whale.', 'CHAPTER 62. The Dart.', 'CHAPTER 63. The Crotch.', 'CHAPTER 64. Stubb’s Supper.', 'CHAPTER 65. The Whale as a Dish.', 'CHAPTER 66. The Shark Massacre.', 'CHAPTER 67. Cutting In.', 'CHAPTER 68. The Blanket.', 'CHAPTER 69. The Funeral.', 'CHAPTER 70. The Sphynx.', 'CHAPTER 71. The Jeroboam’s Story.', 'CHAPTER 72. The Monkey-Rope.', 'CHAPTER 73. Stubb and Flask kill a Right Whale; and Then Have a Talk', 'CHAPTER 74. The Sperm Whale’s Head—Contrasted View.', 'CHAPTER 75. The Right Whale’s Head—Contrasted View.', 'CHAPTER 76. The Battering-Ram.', 'CHAPTER 77. The Great Heidelburgh Tun.', 'CHAPTER 78. Cistern and Buckets.', 'CHAPTER 79. The Prairie.', 'CHAPTER 80. The Nut.', 'CHAPTER 81. The Pequod Meets The Virgin.', 'CHAPTER 82. The Honor and Glory of Whaling.', 'CHAPTER 83. Jonah Historically Regarded.', 'CHAPTER 84. Pitchpoling.', 'CHAPTER 85. The Fountain.', 'CHAPTER 86. The Tail.', 'CHAPTER 87. The Grand Armada.', 'CHAPTER 88. Schools and Schoolmasters.', 'CHAPTER 89. Fast-Fish and Loose-Fish.', 'CHAPTER 90. Heads or Tails.', 'CHAPTER 91. The Pequod Meets The Rose-Bud.', 'CHAPTER 92. Ambergris.', 'CHAPTER 93. The Castaway.', 'CHAPTER 94. A Squeeze of the Hand.', 'CHAPTER 95. The Cassock.', 'CHAPTER 96. The Try-Works.', 'CHAPTER 97. The Lamp.', 'CHAPTER 98. Stowing Down and Clearing Up.', 'CHAPTER 99. The Doubloon.', 'CHAPTER 100. Leg and Arm.', 'CHAPTER 101. The Decanter.', 'CHAPTER 102. A Bower in the Arsacides.', 'CHAPTER 103. Measurement of The Whale’s Skeleton.', 'CHAPTER 104. The Fossil Whale.', 'CHAPTER 105. Does the Whale’s Magnitude Diminish?—Will He Perish?', 'CHAPTER 106. Ahab’s Leg.', 'CHAPTER 107. The Carpenter.', 'CHAPTER 108. Ahab and the Carpenter.', 'CHAPTER 109. Ahab and Starbuck in the Cabin.', 'CHAPTER 110. Queequeg in His Coffin.', 'CHAPTER 111. The Pacific.', 'CHAPTER 112. The Blacksmith.', 'CHAPTER 113. The Forge.', 'CHAPTER 114. The Gilder.', 'CHAPTER 115. The Pequod Meets The Bachelor.', 'CHAPTER 116. The Dying Whale.', 'CHAPTER 117. The Whale Watch.', 'CHAPTER 118. The Quadrant.', 'CHAPTER 119. The Candles.', 'CHAPTER 120. The Deck Towards the End of the First Night Watch.', 'CHAPTER 121. Midnight.—The Forecastle Bulwarks.', 'CHAPTER 122. Midnight Aloft.—Thunder and Lightning.', 'CHAPTER 123. The Musket.', 'CHAPTER 124. The Needle.', 'CHAPTER 125. The Log and Line.', 'CHAPTER 126. The Life-Buoy.', 'CHAPTER 127. The Deck.', 'CHAPTER 128. The Pequod Meets The Rachel.', 'CHAPTER 129. The Cabin.', 'CHAPTER 130. The Hat.', 'CHAPTER 131. The Pequod Meets The Delight.', 'CHAPTER 132. The Symphony.', 'CHAPTER 133. The Chase—First Day.', 'CHAPTER 134. The Chase—Second Day.', 'CHAPTER 135. The Chase.—Third Day.']\n"
     ]
    }
   ],
   "source": [
    "print(chapter_titles)"
   ]
  },
  {
   "attachments": {},
   "cell_type": "markdown",
   "metadata": {},
   "source": [
    "#### Tip\n",
    "*for...* 구문 대신 아래와 같이 보다 간단한 표현식으로 챕터 제목을 추출하는 방법도 있다."
   ]
  },
  {
   "cell_type": "code",
   "execution_count": 32,
   "metadata": {},
   "outputs": [
    {
     "name": "stdout",
     "output_type": "stream",
     "text": [
      "['CHAPTER 1. Loomings.', 'CHAPTER 2. The Carpet-Bag.', 'CHAPTER 3. The Spouter-Inn.', 'CHAPTER 4. The Counterpane.', 'CHAPTER 5. Breakfast.', 'CHAPTER 6. The Street.', 'CHAPTER 7. The Chapel.', 'CHAPTER 8. The Pulpit.', 'CHAPTER 9. The Sermon.', 'CHAPTER 10. A Bosom Friend.', 'CHAPTER 11. Nightgown.', 'CHAPTER 12. Biographical.', 'CHAPTER 13. Wheelbarrow.', 'CHAPTER 14. Nantucket.', 'CHAPTER 15. Chowder.', 'CHAPTER 16. The Ship.', 'CHAPTER 17. The Ramadan.', 'CHAPTER 18. His Mark.', 'CHAPTER 19. The Prophet.', 'CHAPTER 20. All Astir.', 'CHAPTER 21. Going Aboard.', 'CHAPTER 22. Merry Christmas.', 'CHAPTER 23. The Lee Shore.', 'CHAPTER 24. The Advocate.', 'CHAPTER 25. Postscript.', 'CHAPTER 26. Knights and Squires.', 'CHAPTER 27. Knights and Squires.', 'CHAPTER 28. Ahab.', 'CHAPTER 29. Enter Ahab; to Him, Stubb.', 'CHAPTER 30. The Pipe.', 'CHAPTER 31. Queen Mab.', 'CHAPTER 32. Cetology.', 'CHAPTER 33. The Specksnyder.', 'CHAPTER 34. The Cabin-Table.', 'CHAPTER 35. The Mast-Head.', 'CHAPTER 36. The Quarter-Deck.', 'CHAPTER 37. Sunset.', 'CHAPTER 38. Dusk.', 'CHAPTER 39. First Night-Watch.', 'CHAPTER 40. Midnight, Forecastle.', 'CHAPTER 41. Moby Dick.', 'CHAPTER 42. The Whiteness of the Whale.', 'CHAPTER 43. Hark!', 'CHAPTER 44. The Chart.', 'CHAPTER 45. The Affidavit.', 'CHAPTER 46. Surmises.', 'CHAPTER 47. The Mat-Maker.', 'CHAPTER 48. The First Lowering.', 'CHAPTER 49. The Hyena.', 'CHAPTER 50. Ahab’s Boat and Crew. Fedallah.', 'CHAPTER 51. The Spirit-Spout.', 'CHAPTER 52. The Albatross.', 'CHAPTER 53. The Gam.', 'CHAPTER 54. The Town-Ho’s Story.', 'CHAPTER 55. Of the Monstrous Pictures of Whales.', 'CHAPTER 56. Of the Less Erroneous Pictures of Whales, and the True', 'CHAPTER 57. Of Whales in Paint; in Teeth; in Wood; in Sheet-Iron; in', 'CHAPTER 58. Brit.', 'CHAPTER 59. Squid.', 'CHAPTER 60. The Line.', 'CHAPTER 61. Stubb Kills a Whale.', 'CHAPTER 62. The Dart.', 'CHAPTER 63. The Crotch.', 'CHAPTER 64. Stubb’s Supper.', 'CHAPTER 65. The Whale as a Dish.', 'CHAPTER 66. The Shark Massacre.', 'CHAPTER 67. Cutting In.', 'CHAPTER 68. The Blanket.', 'CHAPTER 69. The Funeral.', 'CHAPTER 70. The Sphynx.', 'CHAPTER 71. The Jeroboam’s Story.', 'CHAPTER 72. The Monkey-Rope.', 'CHAPTER 73. Stubb and Flask kill a Right Whale; and Then Have a Talk', 'CHAPTER 74. The Sperm Whale’s Head—Contrasted View.', 'CHAPTER 75. The Right Whale’s Head—Contrasted View.', 'CHAPTER 76. The Battering-Ram.', 'CHAPTER 77. The Great Heidelburgh Tun.', 'CHAPTER 78. Cistern and Buckets.', 'CHAPTER 79. The Prairie.', 'CHAPTER 80. The Nut.', 'CHAPTER 81. The Pequod Meets The Virgin.', 'CHAPTER 82. The Honor and Glory of Whaling.', 'CHAPTER 83. Jonah Historically Regarded.', 'CHAPTER 84. Pitchpoling.', 'CHAPTER 85. The Fountain.', 'CHAPTER 86. The Tail.', 'CHAPTER 87. The Grand Armada.', 'CHAPTER 88. Schools and Schoolmasters.', 'CHAPTER 89. Fast-Fish and Loose-Fish.', 'CHAPTER 90. Heads or Tails.', 'CHAPTER 91. The Pequod Meets The Rose-Bud.', 'CHAPTER 92. Ambergris.', 'CHAPTER 93. The Castaway.', 'CHAPTER 94. A Squeeze of the Hand.', 'CHAPTER 95. The Cassock.', 'CHAPTER 96. The Try-Works.', 'CHAPTER 97. The Lamp.', 'CHAPTER 98. Stowing Down and Clearing Up.', 'CHAPTER 99. The Doubloon.', 'CHAPTER 100. Leg and Arm.', 'CHAPTER 101. The Decanter.', 'CHAPTER 102. A Bower in the Arsacides.', 'CHAPTER 103. Measurement of The Whale’s Skeleton.', 'CHAPTER 104. The Fossil Whale.', 'CHAPTER 105. Does the Whale’s Magnitude Diminish?—Will He Perish?', 'CHAPTER 106. Ahab’s Leg.', 'CHAPTER 107. The Carpenter.', 'CHAPTER 108. Ahab and the Carpenter.', 'CHAPTER 109. Ahab and Starbuck in the Cabin.', 'CHAPTER 110. Queequeg in His Coffin.', 'CHAPTER 111. The Pacific.', 'CHAPTER 112. The Blacksmith.', 'CHAPTER 113. The Forge.', 'CHAPTER 114. The Gilder.', 'CHAPTER 115. The Pequod Meets The Bachelor.', 'CHAPTER 116. The Dying Whale.', 'CHAPTER 117. The Whale Watch.', 'CHAPTER 118. The Quadrant.', 'CHAPTER 119. The Candles.', 'CHAPTER 120. The Deck Towards the End of the First Night Watch.', 'CHAPTER 121. Midnight.—The Forecastle Bulwarks.', 'CHAPTER 122. Midnight Aloft.—Thunder and Lightning.', 'CHAPTER 123. The Musket.', 'CHAPTER 124. The Needle.', 'CHAPTER 125. The Log and Line.', 'CHAPTER 126. The Life-Buoy.', 'CHAPTER 127. The Deck.', 'CHAPTER 128. The Pequod Meets The Rachel.', 'CHAPTER 129. The Cabin.', 'CHAPTER 130. The Hat.', 'CHAPTER 131. The Pequod Meets The Delight.', 'CHAPTER 132. The Symphony.', 'CHAPTER 133. The Chase—First Day.', 'CHAPTER 134. The Chase—Second Day.', 'CHAPTER 135. The Chase.—Third Day.']\n"
     ]
    }
   ],
   "source": [
    "chapter_name = '^CHAPTER \\d+'\n",
    "\n",
    "chapter_titles = [line.strip() for line in doc if re.search(chapter_name, line)]\n",
    "\n",
    "print(chapter_titles)"
   ]
  }
 ],
 "metadata": {
  "kernelspec": {
   "display_name": "tensorflow2",
   "language": "python",
   "name": "python3"
  },
  "language_info": {
   "codemirror_mode": {
    "name": "ipython",
    "version": 3
   },
   "file_extension": ".py",
   "mimetype": "text/x-python",
   "name": "python",
   "nbconvert_exporter": "python",
   "pygments_lexer": "ipython3",
   "version": "3.7.7 (default, Mar 26 2020, 15:48:22) \n[GCC 7.3.0]"
  },
  "orig_nbformat": 4,
  "vscode": {
   "interpreter": {
    "hash": "dfc0dc50c02b1a72f9c8c18b28cc5d6f7acf02306ca98ebb94c55727de830630"
   }
  }
 },
 "nbformat": 4,
 "nbformat_minor": 2
}
