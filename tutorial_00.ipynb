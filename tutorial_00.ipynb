{
 "cells": [
  {
   "attachments": {},
   "cell_type": "markdown",
   "metadata": {},
   "source": [
    "### Python 사용을 위한 준비 단계\n",
    "- 파이썬 코딩 연습을 위한 환경\n",
    "- 파이썬 코딩의 기초: 변수 설정, 데이터 타입, 슬라이싱 등"
   ]
  },
  {
   "cell_type": "code",
   "execution_count": 1,
   "metadata": {},
   "outputs": [],
   "source": [
    "import markdown"
   ]
  },
  {
   "cell_type": "code",
   "execution_count": 5,
   "metadata": {},
   "outputs": [],
   "source": [
    "markdown.markdownFromFile(input='/mnt/mydrive/Dropbox/tutorial_digital_humanities/python/markdown/tutorial_03.md', \n",
    "                         output='/mnt/mydrive/Dropbox/tutorial_digital_humanities/python/markdown/tutorial_03.html',\n",
    "                         encoding='utf8')"
   ]
  }
 ],
 "metadata": {
  "kernelspec": {
   "display_name": "tensorflow2",
   "language": "python",
   "name": "python3"
  },
  "language_info": {
   "codemirror_mode": {
    "name": "ipython",
    "version": 3
   },
   "file_extension": ".py",
   "mimetype": "text/x-python",
   "name": "python",
   "nbconvert_exporter": "python",
   "pygments_lexer": "ipython3",
   "version": "3.7.7"
  },
  "orig_nbformat": 4,
  "vscode": {
   "interpreter": {
    "hash": "dfc0dc50c02b1a72f9c8c18b28cc5d6f7acf02306ca98ebb94c55727de830630"
   }
  }
 },
 "nbformat": 4,
 "nbformat_minor": 2
}
